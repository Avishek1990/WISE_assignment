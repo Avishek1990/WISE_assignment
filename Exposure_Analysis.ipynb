{
 "cells": [
  {
   "cell_type": "code",
   "execution_count": 99,
   "metadata": {},
   "outputs": [],
   "source": [
    "import pandas as pd\n",
    "import numpy as np\n",
    "import matplotlib.pyplot as plt\n",
    "import seaborn as sns\n",
    "import warnings\n",
    "warnings.simplefilter('ignore')"
   ]
  },
  {
   "cell_type": "code",
   "execution_count": 100,
   "metadata": {},
   "outputs": [],
   "source": [
    "FX_exp_df = pd.read_excel('Treasury_Analyst_-_Assignment.xlsx')\n",
    "FX_Rate_df = pd.read_excel('Treasury_Analyst_-_Assignment.xlsx',sheet_name='Rates')\n",
    "hedge_df = pd.read_excel('Treasury_Analyst_-_Assignment.xlsx',sheet_name='Hedge')"
   ]
  },
  {
   "cell_type": "code",
   "execution_count": 101,
   "metadata": {},
   "outputs": [
    {
     "data": {
      "text/html": [
       "<div>\n",
       "<style scoped>\n",
       "    .dataframe tbody tr th:only-of-type {\n",
       "        vertical-align: middle;\n",
       "    }\n",
       "\n",
       "    .dataframe tbody tr th {\n",
       "        vertical-align: top;\n",
       "    }\n",
       "\n",
       "    .dataframe thead th {\n",
       "        text-align: right;\n",
       "    }\n",
       "</style>\n",
       "<table border=\"1\" class=\"dataframe\">\n",
       "  <thead>\n",
       "    <tr style=\"text-align: right;\">\n",
       "      <th></th>\n",
       "      <th>TransferId</th>\n",
       "      <th>TimeStamp</th>\n",
       "      <th>FromCcy</th>\n",
       "      <th>ToCcy</th>\n",
       "      <th>FromCcyAmount</th>\n",
       "    </tr>\n",
       "  </thead>\n",
       "  <tbody>\n",
       "    <tr>\n",
       "      <th>0</th>\n",
       "      <td>3456765</td>\n",
       "      <td>2017-09-05 12:00:00</td>\n",
       "      <td>EUR</td>\n",
       "      <td>GBP</td>\n",
       "      <td>5900</td>\n",
       "    </tr>\n",
       "    <tr>\n",
       "      <th>1</th>\n",
       "      <td>3456766</td>\n",
       "      <td>2017-09-05 12:03:00</td>\n",
       "      <td>GBP</td>\n",
       "      <td>EUR</td>\n",
       "      <td>5500</td>\n",
       "    </tr>\n",
       "    <tr>\n",
       "      <th>2</th>\n",
       "      <td>3456767</td>\n",
       "      <td>2017-09-05 12:03:53</td>\n",
       "      <td>EUR</td>\n",
       "      <td>GBP</td>\n",
       "      <td>6500</td>\n",
       "    </tr>\n",
       "    <tr>\n",
       "      <th>3</th>\n",
       "      <td>3456768</td>\n",
       "      <td>2017-09-05 12:09:22</td>\n",
       "      <td>EUR</td>\n",
       "      <td>GBP</td>\n",
       "      <td>5400</td>\n",
       "    </tr>\n",
       "    <tr>\n",
       "      <th>4</th>\n",
       "      <td>3456769</td>\n",
       "      <td>2017-09-05 12:10:55</td>\n",
       "      <td>GBP</td>\n",
       "      <td>EUR</td>\n",
       "      <td>5200</td>\n",
       "    </tr>\n",
       "  </tbody>\n",
       "</table>\n",
       "</div>"
      ],
      "text/plain": [
       "   TransferId           TimeStamp FromCcy ToCcy  FromCcyAmount\n",
       "0     3456765 2017-09-05 12:00:00     EUR   GBP           5900\n",
       "1     3456766 2017-09-05 12:03:00     GBP   EUR           5500\n",
       "2     3456767 2017-09-05 12:03:53     EUR   GBP           6500\n",
       "3     3456768 2017-09-05 12:09:22     EUR   GBP           5400\n",
       "4     3456769 2017-09-05 12:10:55     GBP   EUR           5200"
      ]
     },
     "execution_count": 101,
     "metadata": {},
     "output_type": "execute_result"
    }
   ],
   "source": [
    "FX_exp_df.head()"
   ]
  },
  {
   "cell_type": "code",
   "execution_count": 102,
   "metadata": {},
   "outputs": [
    {
     "name": "stdout",
     "output_type": "stream",
     "text": [
      "<class 'pandas.core.frame.DataFrame'>\n",
      "RangeIndex: 198 entries, 0 to 197\n",
      "Data columns (total 5 columns):\n",
      " #   Column         Non-Null Count  Dtype         \n",
      "---  ------         --------------  -----         \n",
      " 0   TransferId     198 non-null    int64         \n",
      " 1   TimeStamp      198 non-null    datetime64[ns]\n",
      " 2   FromCcy        198 non-null    object        \n",
      " 3   ToCcy          198 non-null    object        \n",
      " 4   FromCcyAmount  198 non-null    int64         \n",
      "dtypes: datetime64[ns](1), int64(2), object(2)\n",
      "memory usage: 7.9+ KB\n"
     ]
    }
   ],
   "source": [
    "FX_exp_df.info()"
   ]
  },
  {
   "cell_type": "code",
   "execution_count": 103,
   "metadata": {},
   "outputs": [
    {
     "data": {
      "text/html": [
       "<div>\n",
       "<style scoped>\n",
       "    .dataframe tbody tr th:only-of-type {\n",
       "        vertical-align: middle;\n",
       "    }\n",
       "\n",
       "    .dataframe tbody tr th {\n",
       "        vertical-align: top;\n",
       "    }\n",
       "\n",
       "    .dataframe thead th {\n",
       "        text-align: right;\n",
       "    }\n",
       "</style>\n",
       "<table border=\"1\" class=\"dataframe\">\n",
       "  <thead>\n",
       "    <tr style=\"text-align: right;\">\n",
       "      <th></th>\n",
       "      <th>TimeStamp</th>\n",
       "      <th>EUR/GBP</th>\n",
       "    </tr>\n",
       "  </thead>\n",
       "  <tbody>\n",
       "    <tr>\n",
       "      <th>0</th>\n",
       "      <td>2017-09-05 12:00:00</td>\n",
       "      <td>0.8474</td>\n",
       "    </tr>\n",
       "    <tr>\n",
       "      <th>1</th>\n",
       "      <td>2017-09-05 12:03:00</td>\n",
       "      <td>0.8481</td>\n",
       "    </tr>\n",
       "    <tr>\n",
       "      <th>2</th>\n",
       "      <td>2017-09-05 12:03:53</td>\n",
       "      <td>0.8472</td>\n",
       "    </tr>\n",
       "    <tr>\n",
       "      <th>3</th>\n",
       "      <td>2017-09-05 12:09:22</td>\n",
       "      <td>0.8477</td>\n",
       "    </tr>\n",
       "    <tr>\n",
       "      <th>4</th>\n",
       "      <td>2017-09-05 12:10:55</td>\n",
       "      <td>0.8485</td>\n",
       "    </tr>\n",
       "  </tbody>\n",
       "</table>\n",
       "</div>"
      ],
      "text/plain": [
       "            TimeStamp  EUR/GBP\n",
       "0 2017-09-05 12:00:00   0.8474\n",
       "1 2017-09-05 12:03:00   0.8481\n",
       "2 2017-09-05 12:03:53   0.8472\n",
       "3 2017-09-05 12:09:22   0.8477\n",
       "4 2017-09-05 12:10:55   0.8485"
      ]
     },
     "execution_count": 103,
     "metadata": {},
     "output_type": "execute_result"
    }
   ],
   "source": [
    "FX_Rate_df.head()"
   ]
  },
  {
   "cell_type": "code",
   "execution_count": 104,
   "metadata": {},
   "outputs": [
    {
     "name": "stdout",
     "output_type": "stream",
     "text": [
      "<class 'pandas.core.frame.DataFrame'>\n",
      "RangeIndex: 198 entries, 0 to 197\n",
      "Data columns (total 2 columns):\n",
      " #   Column     Non-Null Count  Dtype         \n",
      "---  ------     --------------  -----         \n",
      " 0   TimeStamp  198 non-null    datetime64[ns]\n",
      " 1   EUR/GBP    198 non-null    float64       \n",
      "dtypes: datetime64[ns](1), float64(1)\n",
      "memory usage: 3.2 KB\n"
     ]
    }
   ],
   "source": [
    "FX_Rate_df.info()"
   ]
  },
  {
   "cell_type": "code",
   "execution_count": 105,
   "metadata": {},
   "outputs": [
    {
     "data": {
      "text/html": [
       "<div>\n",
       "<style scoped>\n",
       "    .dataframe tbody tr th:only-of-type {\n",
       "        vertical-align: middle;\n",
       "    }\n",
       "\n",
       "    .dataframe tbody tr th {\n",
       "        vertical-align: top;\n",
       "    }\n",
       "\n",
       "    .dataframe thead th {\n",
       "        text-align: right;\n",
       "    }\n",
       "</style>\n",
       "<table border=\"1\" class=\"dataframe\">\n",
       "  <thead>\n",
       "    <tr style=\"text-align: right;\">\n",
       "      <th></th>\n",
       "      <th>TimeStamp</th>\n",
       "      <th>Ccy</th>\n",
       "      <th>Amount</th>\n",
       "    </tr>\n",
       "  </thead>\n",
       "  <tbody>\n",
       "    <tr>\n",
       "      <th>0</th>\n",
       "      <td>2017-09-05 15:06:00</td>\n",
       "      <td>EUR</td>\n",
       "      <td>40000</td>\n",
       "    </tr>\n",
       "    <tr>\n",
       "      <th>1</th>\n",
       "      <td>2017-09-05 16:45:00</td>\n",
       "      <td>EUR</td>\n",
       "      <td>-20000</td>\n",
       "    </tr>\n",
       "    <tr>\n",
       "      <th>2</th>\n",
       "      <td>2017-09-05 17:20:00</td>\n",
       "      <td>EUR</td>\n",
       "      <td>10000</td>\n",
       "    </tr>\n",
       "    <tr>\n",
       "      <th>3</th>\n",
       "      <td>2017-09-05 20:27:00</td>\n",
       "      <td>EUR</td>\n",
       "      <td>10000</td>\n",
       "    </tr>\n",
       "    <tr>\n",
       "      <th>4</th>\n",
       "      <td>2017-09-05 21:37:00</td>\n",
       "      <td>EUR</td>\n",
       "      <td>20000</td>\n",
       "    </tr>\n",
       "  </tbody>\n",
       "</table>\n",
       "</div>"
      ],
      "text/plain": [
       "            TimeStamp  Ccy  Amount\n",
       "0 2017-09-05 15:06:00  EUR   40000\n",
       "1 2017-09-05 16:45:00  EUR  -20000\n",
       "2 2017-09-05 17:20:00  EUR   10000\n",
       "3 2017-09-05 20:27:00  EUR   10000\n",
       "4 2017-09-05 21:37:00  EUR   20000"
      ]
     },
     "execution_count": 105,
     "metadata": {},
     "output_type": "execute_result"
    }
   ],
   "source": [
    "hedge_df.head()"
   ]
  },
  {
   "cell_type": "code",
   "execution_count": 106,
   "metadata": {},
   "outputs": [
    {
     "data": {
      "text/plain": [
       "Index(['TransferId', 'TimeStamp', 'FromCcy', 'ToCcy', 'FromCcyAmount'], dtype='object')"
      ]
     },
     "execution_count": 106,
     "metadata": {},
     "output_type": "execute_result"
    }
   ],
   "source": [
    "FX_exp_df.columns"
   ]
  },
  {
   "cell_type": "code",
   "execution_count": 107,
   "metadata": {},
   "outputs": [
    {
     "data": {
      "text/plain": [
       "Timestamp('2017-09-05 23:23:34')"
      ]
     },
     "execution_count": 107,
     "metadata": {},
     "output_type": "execute_result"
    }
   ],
   "source": [
    "FX_exp_df.TimeStamp.max()"
   ]
  },
  {
   "cell_type": "code",
   "execution_count": 108,
   "metadata": {},
   "outputs": [
    {
     "data": {
      "text/plain": [
       "Index(['TimeStamp', 'EUR/GBP'], dtype='object')"
      ]
     },
     "execution_count": 108,
     "metadata": {},
     "output_type": "execute_result"
    }
   ],
   "source": [
    "FX_Rate_df.columns"
   ]
  },
  {
   "cell_type": "code",
   "execution_count": 109,
   "metadata": {},
   "outputs": [
    {
     "data": {
      "text/plain": [
       "Timestamp('2017-09-05 23:23:34')"
      ]
     },
     "execution_count": 109,
     "metadata": {},
     "output_type": "execute_result"
    }
   ],
   "source": [
    "FX_Rate_df.TimeStamp.max()"
   ]
  },
  {
   "cell_type": "code",
   "execution_count": 110,
   "metadata": {},
   "outputs": [],
   "source": [
    "FX_Exposure_Rate = FX_exp_df.merge(FX_Rate_df, left_on = 'TimeStamp',right_on = 'TimeStamp')"
   ]
  },
  {
   "cell_type": "code",
   "execution_count": 111,
   "metadata": {},
   "outputs": [
    {
     "data": {
      "text/plain": [
       "True"
      ]
     },
     "execution_count": 111,
     "metadata": {},
     "output_type": "execute_result"
    }
   ],
   "source": [
    "FX_Exposure_Rate.shape[0] == FX_exp_df.shape[0]"
   ]
  },
  {
   "cell_type": "code",
   "execution_count": 112,
   "metadata": {},
   "outputs": [
    {
     "name": "stdout",
     "output_type": "stream",
     "text": [
      "<class 'pandas.core.frame.DataFrame'>\n",
      "Int64Index: 198 entries, 0 to 197\n",
      "Data columns (total 6 columns):\n",
      " #   Column         Non-Null Count  Dtype         \n",
      "---  ------         --------------  -----         \n",
      " 0   TransferId     198 non-null    int64         \n",
      " 1   TimeStamp      198 non-null    datetime64[ns]\n",
      " 2   FromCcy        198 non-null    object        \n",
      " 3   ToCcy          198 non-null    object        \n",
      " 4   FromCcyAmount  198 non-null    int64         \n",
      " 5   EUR/GBP        198 non-null    float64       \n",
      "dtypes: datetime64[ns](1), float64(1), int64(2), object(2)\n",
      "memory usage: 10.8+ KB\n"
     ]
    }
   ],
   "source": [
    "FX_Exposure_Rate.info()"
   ]
  },
  {
   "cell_type": "code",
   "execution_count": 113,
   "metadata": {},
   "outputs": [
    {
     "data": {
      "image/png": "[encoded data removed]",
      "text/plain": [
       "<Figure size 720x432 with 1 Axes>"
      ]
     },
     "metadata": {
      "needs_background": "light"
     },
     "output_type": "display_data"
    },
    {
     "data": {
      "image/png": "[encoded data removed]",
      "text/plain": [
       "<Figure size 720x432 with 1 Axes>"
      ]
     },
     "metadata": {
      "needs_background": "light"
     },
     "output_type": "display_data"
    }
   ],
   "source": [
    "fig = plt.figure(figsize = (10,6))\n",
    "sns.boxplot(FX_Exposure_Rate[FX_Exposure_Rate.ToCcy=='EUR']['EUR/GBP'], color = 'green')\n",
    "plt.show()\n",
    "fig = plt.figure(figsize = (10,6))\n",
    "sns.boxplot(FX_Exposure_Rate[FX_Exposure_Rate.ToCcy=='GBP']['EUR/GBP'])\n",
    "plt.show()"
   ]
  },
  {
   "cell_type": "code",
   "execution_count": 114,
   "metadata": {},
   "outputs": [
    {
     "data": {
      "image/png": "[encoded data removed]",
      "text/plain": [
       "<Figure size 720x432 with 1 Axes>"
      ]
     },
     "metadata": {
      "needs_background": "light"
     },
     "output_type": "display_data"
    }
   ],
   "source": [
    "fig = plt.figure(figsize = (10,6))\n",
    "sns.histplot(FX_Exposure_Rate[FX_Exposure_Rate.ToCcy=='EUR']['FromCcyAmount'], color = 'green')\n",
    "sns.histplot(FX_Exposure_Rate[FX_Exposure_Rate.ToCcy=='GBP']['FromCcyAmount'])\n",
    "plt.show()"
   ]
  },
  {
   "cell_type": "markdown",
   "metadata": {},
   "source": [
    "#### * please assume none of the transactions were converted or paid out in this time"
   ]
  },
  {
   "cell_type": "markdown",
   "metadata": {},
   "source": [
    "### Let's calculate the exposure for hours {1,2,3....24} from the time the transferId was created."
   ]
  },
  {
   "cell_type": "code",
   "execution_count": 115,
   "metadata": {},
   "outputs": [
    {
     "data": {
      "text/html": [
       "<div>\n",
       "<style scoped>\n",
       "    .dataframe tbody tr th:only-of-type {\n",
       "        vertical-align: middle;\n",
       "    }\n",
       "\n",
       "    .dataframe tbody tr th {\n",
       "        vertical-align: top;\n",
       "    }\n",
       "\n",
       "    .dataframe thead th {\n",
       "        text-align: right;\n",
       "    }\n",
       "</style>\n",
       "<table border=\"1\" class=\"dataframe\">\n",
       "  <thead>\n",
       "    <tr style=\"text-align: right;\">\n",
       "      <th></th>\n",
       "      <th>TransferId</th>\n",
       "      <th>TimeStamp</th>\n",
       "      <th>FromCcy</th>\n",
       "      <th>ToCcy</th>\n",
       "      <th>FromCcyAmount</th>\n",
       "      <th>EUR/GBP</th>\n",
       "    </tr>\n",
       "  </thead>\n",
       "  <tbody>\n",
       "    <tr>\n",
       "      <th>0</th>\n",
       "      <td>3456765</td>\n",
       "      <td>2017-09-05 12:00:00</td>\n",
       "      <td>EUR</td>\n",
       "      <td>GBP</td>\n",
       "      <td>5900</td>\n",
       "      <td>0.8474</td>\n",
       "    </tr>\n",
       "    <tr>\n",
       "      <th>1</th>\n",
       "      <td>3456766</td>\n",
       "      <td>2017-09-05 12:03:00</td>\n",
       "      <td>GBP</td>\n",
       "      <td>EUR</td>\n",
       "      <td>5500</td>\n",
       "      <td>0.8481</td>\n",
       "    </tr>\n",
       "    <tr>\n",
       "      <th>2</th>\n",
       "      <td>3456767</td>\n",
       "      <td>2017-09-05 12:03:53</td>\n",
       "      <td>EUR</td>\n",
       "      <td>GBP</td>\n",
       "      <td>6500</td>\n",
       "      <td>0.8472</td>\n",
       "    </tr>\n",
       "    <tr>\n",
       "      <th>3</th>\n",
       "      <td>3456768</td>\n",
       "      <td>2017-09-05 12:09:22</td>\n",
       "      <td>EUR</td>\n",
       "      <td>GBP</td>\n",
       "      <td>5400</td>\n",
       "      <td>0.8477</td>\n",
       "    </tr>\n",
       "    <tr>\n",
       "      <th>4</th>\n",
       "      <td>3456769</td>\n",
       "      <td>2017-09-05 12:10:55</td>\n",
       "      <td>GBP</td>\n",
       "      <td>EUR</td>\n",
       "      <td>5200</td>\n",
       "      <td>0.8485</td>\n",
       "    </tr>\n",
       "  </tbody>\n",
       "</table>\n",
       "</div>"
      ],
      "text/plain": [
       "   TransferId           TimeStamp FromCcy ToCcy  FromCcyAmount  EUR/GBP\n",
       "0     3456765 2017-09-05 12:00:00     EUR   GBP           5900   0.8474\n",
       "1     3456766 2017-09-05 12:03:00     GBP   EUR           5500   0.8481\n",
       "2     3456767 2017-09-05 12:03:53     EUR   GBP           6500   0.8472\n",
       "3     3456768 2017-09-05 12:09:22     EUR   GBP           5400   0.8477\n",
       "4     3456769 2017-09-05 12:10:55     GBP   EUR           5200   0.8485"
      ]
     },
     "execution_count": 115,
     "metadata": {},
     "output_type": "execute_result"
    }
   ],
   "source": [
    "FX_Exposure_Rate.head()"
   ]
  },
  {
   "cell_type": "code",
   "execution_count": 116,
   "metadata": {},
   "outputs": [],
   "source": [
    "FX_Exposure_Rate['Exchange_Rate'] = [xr[1] if xr[0] == 'EUR' else 1/xr[1] for ind,xr in FX_Exposure_Rate[['FromCcy','EUR/GBP']].iterrows()]"
   ]
  },
  {
   "cell_type": "code",
   "execution_count": 117,
   "metadata": {},
   "outputs": [
    {
     "data": {
      "image/png": "[encoded data removed]",
      "text/plain": [
       "<Figure size 720x432 with 1 Axes>"
      ]
     },
     "metadata": {
      "needs_background": "light"
     },
     "output_type": "display_data"
    }
   ],
   "source": [
    "fig = plt.figure(figsize = (10,6))\n",
    "sns.lineplot(FX_Exposure_Rate[FX_Exposure_Rate.ToCcy=='EUR']['TimeStamp'],FX_Exposure_Rate[FX_Exposure_Rate.ToCcy=='EUR']['FromCcyAmount'], color = 'green')\n",
    "sns.lineplot(FX_Exposure_Rate[FX_Exposure_Rate.ToCcy=='GBP']['TimeStamp'],FX_Exposure_Rate[FX_Exposure_Rate.ToCcy=='GBP']['FromCcyAmount'])\n",
    "plt.show()"
   ]
  },
  {
   "cell_type": "code",
   "execution_count": 118,
   "metadata": {},
   "outputs": [
    {
     "data": {
      "image/png": "[encoded data removed]",
      "text/plain": [
       "<Figure size 720x432 with 1 Axes>"
      ]
     },
     "metadata": {
      "needs_background": "light"
     },
     "output_type": "display_data"
    }
   ],
   "source": [
    "fig = plt.figure(figsize = (10,6))\n",
    "sns.lineplot(FX_Exposure_Rate[FX_Exposure_Rate.ToCcy=='EUR']['TimeStamp'],FX_Exposure_Rate[FX_Exposure_Rate.ToCcy=='EUR']['Exchange_Rate'], color = 'green')\n",
    "sns.lineplot(FX_Exposure_Rate[FX_Exposure_Rate.ToCcy=='GBP']['TimeStamp'],FX_Exposure_Rate[FX_Exposure_Rate.ToCcy=='GBP']['Exchange_Rate'])\n",
    "plt.show()"
   ]
  },
  {
   "cell_type": "code",
   "execution_count": 119,
   "metadata": {},
   "outputs": [],
   "source": [
    "import datetime as dt"
   ]
  },
  {
   "cell_type": "markdown",
   "metadata": {},
   "source": [
    "1. What are the maximum and minimum exposures we have in EUR for this day (excluding the effect of hedge transactions)? \n",
    "2. Assuming we executed the hedge positions in the hedge table, what would our EUR exposure be at 22:00 ? \n",
    "3. What is the total P&L (profit or loss) for the company from all transactions at the end of the day? \n",
    "4. Please write an SQL query giving the first and last rate of every hour, and the total change of EUR exposure that hour (without hedge positions) \n",
    "5. Can you suggest a method to measure the risk associated with exposure on a given day? 6. Assuming there is a team in charge of hedging, how could they measure their own performance? (To find out if they are doing a better or worse job over time)"
   ]
  },
  {
   "cell_type": "code",
   "execution_count": 120,
   "metadata": {},
   "outputs": [],
   "source": [
    "def trans_value_EUR(amount, exchange_rate, exchange_rate_later,ccy = 'EUR'):\n",
    "    if ccy == 'EUR':\n",
    "        return amount*exchange_rate/exchange_rate_later\n",
    "    else:\n",
    "        return amount*exchange_rate_later"
   ]
  },
  {
   "cell_type": "markdown",
   "metadata": {},
   "source": [
    "## * Please assume none of the transactions were converted or paid out in this time"
   ]
  },
  {
   "cell_type": "code",
   "execution_count": 135,
   "metadata": {},
   "outputs": [],
   "source": [
    "def calculateExposures(data_, position = -0.01): # position = -0.1 : rolling, integer : position\n",
    "    data = data_.copy()\n",
    "    exposures = []\n",
    "    if position == -0.01:\n",
    "        for ccy in ['EUR','GBP']:\n",
    "            tempdf = data_[data_.FromCcy == ccy][['FromCcyAmount','Exchange_Rate']]\n",
    "            if ccy == 'EUR':\n",
    "                exposures.extend([[tempdf.iloc[i,0] - \n",
    "                                trans_value_EUR(\n",
    "                                                tempdf.iloc[i,0],tempdf.iloc[i,1],tempdf.iloc[j,1],ccy) \n",
    "                                                for j in range(i+1,tempdf.shape[0])] \n",
    "                                                for i in range(tempdf.shape[0]-1)])\n",
    "            else:\n",
    "                exposures.extend([[tempdf.iloc[i,0]* tempdf.iloc[i,1] - \n",
    "                                trans_value_EUR(\n",
    "                                                tempdf.iloc[i,0],tempdf.iloc[i,1],tempdf.iloc[j,1],ccy) \n",
    "                                                for j in range(i+1,tempdf.shape[0])] \n",
    "                                                for i in range(tempdf.shape[0]-1)])\n",
    "    else:\n",
    "        for ccy in ['EUR','GBP']:\n",
    "            tempdf = data_[data_.FromCcy == ccy][['FromCcyAmount','Exchange_Rate']]\n",
    "            if ccy == 'EUR':\n",
    "                exposures.extend([tempdf.iloc[position,0] - \n",
    "                                trans_value_EUR(\n",
    "                                                tempdf.iloc[position,0],tempdf.iloc[position,1],tempdf.iloc[j,1],ccy) \n",
    "                                                for j in range(position+1,tempdf.shape[0])])\n",
    "                # print(exposures)\n",
    "            else:\n",
    "                exposures.extend([tempdf.iloc[position,0]* tempdf.iloc[position,1] - \n",
    "                                trans_value_EUR(\n",
    "                                                tempdf.iloc[position,0],tempdf.iloc[position,1],tempdf.iloc[j,1],ccy) \n",
    "                                                for j in range(position+1,tempdf.shape[0])])\n",
    "                # print(exposures)\n",
    "    \n",
    "    \n",
    "    return exposures"
   ]
  },
  {
   "cell_type": "code",
   "execution_count": 136,
   "metadata": {},
   "outputs": [],
   "source": [
    "def extendExposures(exposures):\n",
    "    exposure = []\n",
    "    for x in exposures:\n",
    "        exposure.extend(x)\n",
    "    return exposure"
   ]
  },
  {
   "cell_type": "code",
   "execution_count": 137,
   "metadata": {},
   "outputs": [],
   "source": [
    "def fxWindow(window,data_,rolling = True): # Window in hours\n",
    "    data = data_.copy()\n",
    "    \n",
    "    data.sort_values('TimeStamp',ascending = True, inplace = True)\n",
    "    \n",
    "    data['Hours'] = data.TimeStamp.dt.hour\n",
    "    \n",
    "    hours = data.Hours.unique()\n",
    "    data[str(window)+'_hour_Bucket'] = 0\n",
    "    j = 1\n",
    "    buckets = []\n",
    "    for i in range(0,len(hours),window):\n",
    "        bucket_hours = [hours[i] + l for l in range(window)]\n",
    "        buckets.extend(np.full(shape = data[data.Hours.isin(bucket_hours)].shape[0],fill_value = j))\n",
    "#         print(data[data.Hours.isin(hours[i] + l for l in range(window))].Hours)\n",
    "        j+=1\n",
    "    data[str(window)+'_hour_Bucket'] = buckets\n",
    "\n",
    "    end_of_window_exposure = []\n",
    "    max_exposure_in_window = []\n",
    "    min_exposure_in_window = []\n",
    "    min_more_than_0_window = []\n",
    "    average_window = []\n",
    "    \n",
    "    if rolling:\n",
    "        \n",
    "        \n",
    "        for i in range(FX_Exposure_Rate.shape[0]):\n",
    "            # print(i,end = '\\r')\n",
    "            exposures = calculateExposures(FX_Exposure_Rate[FX_Exposure_Rate.TimeStamp <= \\\n",
    "                                            FX_Exposure_Rate.TimeStamp.iloc[i]+dt.timedelta(window/24)],position = i)\n",
    "\n",
    "            try:\n",
    "                end_of_window_exposure.append(exposures[-1])\n",
    "                max_exposure_in_window.append(max(exposures))\n",
    "                min_exposure_in_window.append(min(exposures))\n",
    "                min_more_than_0_window.append(min([x if x > 0 else 0 for x in exposures ]))\n",
    "                average_window.append(np.mean(exposures))\n",
    "            except IndexError:\n",
    "                end_of_window_exposure.append(0)\n",
    "                max_exposure_in_window.append(0)\n",
    "                min_exposure_in_window.append(0)\n",
    "                min_more_than_0_window.append(0)\n",
    "                average_window.append(0)\n",
    "\n",
    "\n",
    "        # print(len(end_of_window_exposure))\n",
    "        # print(len(max_exposure_in_window))\n",
    "        # print(len(min_exposure_in_window))\n",
    "        # print(len(min_more_than_0_window))\n",
    "        # print(len(average_window))\n",
    "\n",
    "            # print(f'{i/FX_Exposure_Rate.shape[0]:.6g}', end = '\\r')\n",
    "            \n",
    "        data[str(window)+'_hour_exposure'] = end_of_window_exposure\n",
    "        data[str(window)+'_hour_max_exposure'] = max_exposure_in_window\n",
    "        data[str(window)+'_hour_min_exposure'] = min_exposure_in_window\n",
    "        data[str(window)+'_hour_avg_exposure'] = average_window\n",
    "        data[str(window)+'_hour_min_more_than_0_exposure'] = min_more_than_0_window\n",
    "        \n",
    "    else:\n",
    "        \n",
    "        exchange_Rate_Dicts = []\n",
    "        \n",
    "        for i in data[str(window)+'_hour_Bucket'].unique():\n",
    "            \n",
    "            exchange_Rate_Dicts.append({str(window)+'_hour_Bucket':i,\n",
    "                                        str(window)+'_hour_exchange_rate' : data[data.TimeStamp == \\\n",
    "                                                                max(data[data[str(window)+'_hour_Bucket'] == i].TimeStamp)]\\\n",
    "                                                                ['Exchange_Rate'].iloc[0],\n",
    "                                       str(window)+'_hour_max_exchange_rate' : max(data[data[str(window)+'_hour_Bucket'] == i]['Exchange_Rate']),\n",
    "                                       str(window)+'_hour_min_exchange_rate' : min(data[data[str(window)+'_hour_Bucket'] == i]['Exchange_Rate']),\n",
    "                                       str(window)+'_hour_avg_exchange_rate' : np.mean(data[data[str(window)+'_hour_Bucket'] == i]['Exchange_Rate'])})\n",
    "                \n",
    "        bucket_exchange_df = pd.DataFrame(exchange_Rate_Dicts)\n",
    "        \n",
    "        data = data.merge(bucket_exchange_df, left_on = str(window)+'_hour_Bucket', right_on = str(window)+'_hour_Bucket')\n",
    "        \n",
    "        for i in data[str(window)+'_hour_Bucket'].unique():\n",
    "            exposures = calculateExposures(data[data[str(window)+'_hour_Bucket'] == i])\n",
    "\n",
    "            for ex in exposures:\n",
    "                end_of_window_exposure.append(ex[-1])\n",
    "                max_exposure_in_window.append(max(ex))\n",
    "                min_exposure_in_window.append(min(ex))\n",
    "                min_more_than_0_window.append(min([x if x > 0 else 0 for x in ex ]))\n",
    "                average_window.append(np.mean(ex))\n",
    "\n",
    "            # print(f'{i/FX_Exposure_Rate.shape[0]:.6g}', end = '\\r')\n",
    "            # print(len(end_of_window_exposure))\n",
    "            # print(len(max_exposure_in_window))\n",
    "            # print(len(min_exposure_in_window))\n",
    "            # print(len(min_more_than_0_window))\n",
    "            # print(len(average_window))\n",
    "\n",
    "        data[str(window)+'_hour_exposure'] = end_of_window_exposure\n",
    "        data[str(window)+'_hour_max_exposure'] = max_exposure_in_window\n",
    "        data[str(window)+'_hour_min_exposure'] = min_exposure_in_window\n",
    "        data[str(window)+'_hour_avg_exposure'] = average_window\n",
    "        data[str(window)+'_hour_min_more_than_0_exposure'] = min_more_than_0_window\n",
    "        \n",
    "    \n",
    "    return data    \n",
    "                                        \n",
    "                                                                    "
   ]
  },
  {
   "cell_type": "code",
   "execution_count": 138,
   "metadata": {},
   "outputs": [],
   "source": [
    "exposures = calculateExposures(FX_Exposure_Rate[FX_Exposure_Rate.TimeStamp <= \\\n",
    "                                            FX_Exposure_Rate.TimeStamp.iloc[1]+dt.timedelta(1/24)],position = 1)"
   ]
  },
  {
   "cell_type": "code",
   "execution_count": 139,
   "metadata": {},
   "outputs": [
    {
     "data": {
      "text/plain": [
       "[3.8339035035987763,\n",
       " 4.600141542817255,\n",
       " 5.3661988442045185,\n",
       " 16.83541323287136,\n",
       " 8.428621949783519,\n",
       " 20.649488175080478,\n",
       " 19.12439684594665,\n",
       " 16.83541323287136,\n",
       " -10.128493434601296,\n",
       " -3.61347994796688,\n",
       " -1.4448808185197777,\n",
       " 0.0,\n",
       " -0.7223552559826203,\n",
       " 5.051723262157793,\n",
       " 7.934684782161639]"
      ]
     },
     "execution_count": 139,
     "metadata": {},
     "output_type": "execute_result"
    }
   ],
   "source": [
    "exposures"
   ]
  },
  {
   "cell_type": "code",
   "execution_count": 142,
   "metadata": {},
   "outputs": [],
   "source": [
    "# Test the function\n",
    "\n",
    "def testFxWindow(data_):\n",
    "    data = data_.copy()\n",
    "    i = 1\n",
    "    for rolling in [True, False]:\n",
    "        print(rolling)\n",
    "        for window in range(1,25):\n",
    "            if fxWindow(window,data,rolling).shape[0] == data.shape[0]:\n",
    "                print(f'Pass percentage : {i*100/48 : .5g} %                    ',end = '\\r')\n",
    "            else :\n",
    "                print('OOPSSSS..')\n",
    "                return f'Break at window = {window} and rolling = {rolling}'\n",
    "            i+=1\n",
    "    return 'Test Passed'"
   ]
  },
  {
   "cell_type": "code",
   "execution_count": 143,
   "metadata": {},
   "outputs": [
    {
     "name": "stdout",
     "output_type": "stream",
     "text": [
      "True\n",
      "Falsepercentage :  50 %                        \n"
     ]
    },
    {
     "ename": "ValueError",
     "evalue": "Length of values (174) does not match length of index (198)",
     "output_type": "error",
     "traceback": [
      "\u001b[0;31m---------------------------------------------------------------------------\u001b[0m",
      "\u001b[0;31mValueError\u001b[0m                                Traceback (most recent call last)",
      "\u001b[0;32m/var/folders/zp/xn41ykvd58s5hc_zv83pkk_c0000gn/T/ipykernel_7564/1663446019.py\u001b[0m in \u001b[0;36m<module>\u001b[0;34m\u001b[0m\n\u001b[0;32m----> 1\u001b[0;31m \u001b[0mtestFxWindow\u001b[0m\u001b[0;34m(\u001b[0m\u001b[0mFX_Exposure_Rate\u001b[0m\u001b[0;34m)\u001b[0m\u001b[0;34m\u001b[0m\u001b[0;34m\u001b[0m\u001b[0m\n\u001b[0m",
      "\u001b[0;32m/var/folders/zp/xn41ykvd58s5hc_zv83pkk_c0000gn/T/ipykernel_7564/3758510027.py\u001b[0m in \u001b[0;36mtestFxWindow\u001b[0;34m(data_)\u001b[0m\n\u001b[1;32m      7\u001b[0m         \u001b[0mprint\u001b[0m\u001b[0;34m(\u001b[0m\u001b[0mrolling\u001b[0m\u001b[0;34m)\u001b[0m\u001b[0;34m\u001b[0m\u001b[0;34m\u001b[0m\u001b[0m\n\u001b[1;32m      8\u001b[0m         \u001b[0;32mfor\u001b[0m \u001b[0mwindow\u001b[0m \u001b[0;32min\u001b[0m \u001b[0mrange\u001b[0m\u001b[0;34m(\u001b[0m\u001b[0;36m1\u001b[0m\u001b[0;34m,\u001b[0m\u001b[0;36m25\u001b[0m\u001b[0;34m)\u001b[0m\u001b[0;34m:\u001b[0m\u001b[0;34m\u001b[0m\u001b[0;34m\u001b[0m\u001b[0m\n\u001b[0;32m----> 9\u001b[0;31m             \u001b[0;32mif\u001b[0m \u001b[0mfxWindow\u001b[0m\u001b[0;34m(\u001b[0m\u001b[0mwindow\u001b[0m\u001b[0;34m,\u001b[0m\u001b[0mdata\u001b[0m\u001b[0;34m,\u001b[0m\u001b[0mrolling\u001b[0m\u001b[0;34m)\u001b[0m\u001b[0;34m.\u001b[0m\u001b[0mshape\u001b[0m\u001b[0;34m[\u001b[0m\u001b[0;36m0\u001b[0m\u001b[0;34m]\u001b[0m \u001b[0;34m==\u001b[0m \u001b[0mdata\u001b[0m\u001b[0;34m.\u001b[0m\u001b[0mshape\u001b[0m\u001b[0;34m[\u001b[0m\u001b[0;36m0\u001b[0m\u001b[0;34m]\u001b[0m\u001b[0;34m:\u001b[0m\u001b[0;34m\u001b[0m\u001b[0;34m\u001b[0m\u001b[0m\n\u001b[0m\u001b[1;32m     10\u001b[0m                 \u001b[0mprint\u001b[0m\u001b[0;34m(\u001b[0m\u001b[0;34mf'Pass percentage : {i*100/48 : .5g} %                    '\u001b[0m\u001b[0;34m,\u001b[0m\u001b[0mend\u001b[0m \u001b[0;34m=\u001b[0m \u001b[0;34m'\\r'\u001b[0m\u001b[0;34m)\u001b[0m\u001b[0;34m\u001b[0m\u001b[0;34m\u001b[0m\u001b[0m\n\u001b[1;32m     11\u001b[0m             \u001b[0;32melse\u001b[0m \u001b[0;34m:\u001b[0m\u001b[0;34m\u001b[0m\u001b[0;34m\u001b[0m\u001b[0m\n",
      "\u001b[0;32m/var/folders/zp/xn41ykvd58s5hc_zv83pkk_c0000gn/T/ipykernel_7564/1715469123.py\u001b[0m in \u001b[0;36mfxWindow\u001b[0;34m(window, data_, rolling)\u001b[0m\n\u001b[1;32m     94\u001b[0m             \u001b[0;31m# print(len(average_window))\u001b[0m\u001b[0;34m\u001b[0m\u001b[0;34m\u001b[0m\u001b[0;34m\u001b[0m\u001b[0m\n\u001b[1;32m     95\u001b[0m \u001b[0;34m\u001b[0m\u001b[0m\n\u001b[0;32m---> 96\u001b[0;31m         \u001b[0mdata\u001b[0m\u001b[0;34m[\u001b[0m\u001b[0mstr\u001b[0m\u001b[0;34m(\u001b[0m\u001b[0mwindow\u001b[0m\u001b[0;34m)\u001b[0m\u001b[0;34m+\u001b[0m\u001b[0;34m'_hour_exposure'\u001b[0m\u001b[0;34m]\u001b[0m \u001b[0;34m=\u001b[0m \u001b[0mend_of_window_exposure\u001b[0m\u001b[0;34m\u001b[0m\u001b[0;34m\u001b[0m\u001b[0m\n\u001b[0m\u001b[1;32m     97\u001b[0m         \u001b[0mdata\u001b[0m\u001b[0;34m[\u001b[0m\u001b[0mstr\u001b[0m\u001b[0;34m(\u001b[0m\u001b[0mwindow\u001b[0m\u001b[0;34m)\u001b[0m\u001b[0;34m+\u001b[0m\u001b[0;34m'_hour_max_exposure'\u001b[0m\u001b[0;34m]\u001b[0m \u001b[0;34m=\u001b[0m \u001b[0mmax_exposure_in_window\u001b[0m\u001b[0;34m\u001b[0m\u001b[0;34m\u001b[0m\u001b[0m\n\u001b[1;32m     98\u001b[0m         \u001b[0mdata\u001b[0m\u001b[0;34m[\u001b[0m\u001b[0mstr\u001b[0m\u001b[0;34m(\u001b[0m\u001b[0mwindow\u001b[0m\u001b[0;34m)\u001b[0m\u001b[0;34m+\u001b[0m\u001b[0;34m'_hour_min_exposure'\u001b[0m\u001b[0;34m]\u001b[0m \u001b[0;34m=\u001b[0m \u001b[0mmin_exposure_in_window\u001b[0m\u001b[0;34m\u001b[0m\u001b[0;34m\u001b[0m\u001b[0m\n",
      "\u001b[0;32m~/opt/anaconda3/lib/python3.8/site-packages/pandas/core/frame.py\u001b[0m in \u001b[0;36m__setitem__\u001b[0;34m(self, key, value)\u001b[0m\n\u001b[1;32m   3161\u001b[0m         \u001b[0;32melse\u001b[0m\u001b[0;34m:\u001b[0m\u001b[0;34m\u001b[0m\u001b[0;34m\u001b[0m\u001b[0m\n\u001b[1;32m   3162\u001b[0m             \u001b[0;31m# set column\u001b[0m\u001b[0;34m\u001b[0m\u001b[0;34m\u001b[0m\u001b[0;34m\u001b[0m\u001b[0m\n\u001b[0;32m-> 3163\u001b[0;31m             \u001b[0mself\u001b[0m\u001b[0;34m.\u001b[0m\u001b[0m_set_item\u001b[0m\u001b[0;34m(\u001b[0m\u001b[0mkey\u001b[0m\u001b[0;34m,\u001b[0m \u001b[0mvalue\u001b[0m\u001b[0;34m)\u001b[0m\u001b[0;34m\u001b[0m\u001b[0;34m\u001b[0m\u001b[0m\n\u001b[0m\u001b[1;32m   3164\u001b[0m \u001b[0;34m\u001b[0m\u001b[0m\n\u001b[1;32m   3165\u001b[0m     \u001b[0;32mdef\u001b[0m \u001b[0m_setitem_slice\u001b[0m\u001b[0;34m(\u001b[0m\u001b[0mself\u001b[0m\u001b[0;34m,\u001b[0m \u001b[0mkey\u001b[0m\u001b[0;34m:\u001b[0m \u001b[0mslice\u001b[0m\u001b[0;34m,\u001b[0m \u001b[0mvalue\u001b[0m\u001b[0;34m)\u001b[0m\u001b[0;34m:\u001b[0m\u001b[0;34m\u001b[0m\u001b[0;34m\u001b[0m\u001b[0m\n",
      "\u001b[0;32m~/opt/anaconda3/lib/python3.8/site-packages/pandas/core/frame.py\u001b[0m in \u001b[0;36m_set_item\u001b[0;34m(self, key, value)\u001b[0m\n\u001b[1;32m   3240\u001b[0m         \"\"\"\n\u001b[1;32m   3241\u001b[0m         \u001b[0mself\u001b[0m\u001b[0;34m.\u001b[0m\u001b[0m_ensure_valid_index\u001b[0m\u001b[0;34m(\u001b[0m\u001b[0mvalue\u001b[0m\u001b[0;34m)\u001b[0m\u001b[0;34m\u001b[0m\u001b[0;34m\u001b[0m\u001b[0m\n\u001b[0;32m-> 3242\u001b[0;31m         \u001b[0mvalue\u001b[0m \u001b[0;34m=\u001b[0m \u001b[0mself\u001b[0m\u001b[0;34m.\u001b[0m\u001b[0m_sanitize_column\u001b[0m\u001b[0;34m(\u001b[0m\u001b[0mkey\u001b[0m\u001b[0;34m,\u001b[0m \u001b[0mvalue\u001b[0m\u001b[0;34m)\u001b[0m\u001b[0;34m\u001b[0m\u001b[0;34m\u001b[0m\u001b[0m\n\u001b[0m\u001b[1;32m   3243\u001b[0m         \u001b[0mNDFrame\u001b[0m\u001b[0;34m.\u001b[0m\u001b[0m_set_item\u001b[0m\u001b[0;34m(\u001b[0m\u001b[0mself\u001b[0m\u001b[0;34m,\u001b[0m \u001b[0mkey\u001b[0m\u001b[0;34m,\u001b[0m \u001b[0mvalue\u001b[0m\u001b[0;34m)\u001b[0m\u001b[0;34m\u001b[0m\u001b[0;34m\u001b[0m\u001b[0m\n\u001b[1;32m   3244\u001b[0m \u001b[0;34m\u001b[0m\u001b[0m\n",
      "\u001b[0;32m~/opt/anaconda3/lib/python3.8/site-packages/pandas/core/frame.py\u001b[0m in \u001b[0;36m_sanitize_column\u001b[0;34m(self, key, value, broadcast)\u001b[0m\n\u001b[1;32m   3897\u001b[0m \u001b[0;34m\u001b[0m\u001b[0m\n\u001b[1;32m   3898\u001b[0m             \u001b[0;31m# turn me into an ndarray\u001b[0m\u001b[0;34m\u001b[0m\u001b[0;34m\u001b[0m\u001b[0;34m\u001b[0m\u001b[0m\n\u001b[0;32m-> 3899\u001b[0;31m             \u001b[0mvalue\u001b[0m \u001b[0;34m=\u001b[0m \u001b[0msanitize_index\u001b[0m\u001b[0;34m(\u001b[0m\u001b[0mvalue\u001b[0m\u001b[0;34m,\u001b[0m \u001b[0mself\u001b[0m\u001b[0;34m.\u001b[0m\u001b[0mindex\u001b[0m\u001b[0;34m)\u001b[0m\u001b[0;34m\u001b[0m\u001b[0;34m\u001b[0m\u001b[0m\n\u001b[0m\u001b[1;32m   3900\u001b[0m             \u001b[0;32mif\u001b[0m \u001b[0;32mnot\u001b[0m \u001b[0misinstance\u001b[0m\u001b[0;34m(\u001b[0m\u001b[0mvalue\u001b[0m\u001b[0;34m,\u001b[0m \u001b[0;34m(\u001b[0m\u001b[0mnp\u001b[0m\u001b[0;34m.\u001b[0m\u001b[0mndarray\u001b[0m\u001b[0;34m,\u001b[0m \u001b[0mIndex\u001b[0m\u001b[0;34m)\u001b[0m\u001b[0;34m)\u001b[0m\u001b[0;34m:\u001b[0m\u001b[0;34m\u001b[0m\u001b[0;34m\u001b[0m\u001b[0m\n\u001b[1;32m   3901\u001b[0m                 \u001b[0;32mif\u001b[0m \u001b[0misinstance\u001b[0m\u001b[0;34m(\u001b[0m\u001b[0mvalue\u001b[0m\u001b[0;34m,\u001b[0m \u001b[0mlist\u001b[0m\u001b[0;34m)\u001b[0m \u001b[0;32mand\u001b[0m \u001b[0mlen\u001b[0m\u001b[0;34m(\u001b[0m\u001b[0mvalue\u001b[0m\u001b[0;34m)\u001b[0m \u001b[0;34m>\u001b[0m \u001b[0;36m0\u001b[0m\u001b[0;34m:\u001b[0m\u001b[0;34m\u001b[0m\u001b[0;34m\u001b[0m\u001b[0m\n",
      "\u001b[0;32m~/opt/anaconda3/lib/python3.8/site-packages/pandas/core/internals/construction.py\u001b[0m in \u001b[0;36msanitize_index\u001b[0;34m(data, index)\u001b[0m\n\u001b[1;32m    749\u001b[0m     \"\"\"\n\u001b[1;32m    750\u001b[0m     \u001b[0;32mif\u001b[0m \u001b[0mlen\u001b[0m\u001b[0;34m(\u001b[0m\u001b[0mdata\u001b[0m\u001b[0;34m)\u001b[0m \u001b[0;34m!=\u001b[0m \u001b[0mlen\u001b[0m\u001b[0;34m(\u001b[0m\u001b[0mindex\u001b[0m\u001b[0;34m)\u001b[0m\u001b[0;34m:\u001b[0m\u001b[0;34m\u001b[0m\u001b[0;34m\u001b[0m\u001b[0m\n\u001b[0;32m--> 751\u001b[0;31m         raise ValueError(\n\u001b[0m\u001b[1;32m    752\u001b[0m             \u001b[0;34m\"Length of values \"\u001b[0m\u001b[0;34m\u001b[0m\u001b[0;34m\u001b[0m\u001b[0m\n\u001b[1;32m    753\u001b[0m             \u001b[0;34mf\"({len(data)}) \"\u001b[0m\u001b[0;34m\u001b[0m\u001b[0;34m\u001b[0m\u001b[0m\n",
      "\u001b[0;31mValueError\u001b[0m: Length of values (174) does not match length of index (198)"
     ]
    }
   ],
   "source": [
    "testFxWindow(FX_Exposure_Rate)"
   ]
  },
  {
   "cell_type": "code",
   "execution_count": null,
   "metadata": {},
   "outputs": [
    {
     "name": "stdout",
     "output_type": "stream",
     "text": [
      "25296\n",
      "25296\n",
      "25296\n",
      "25296\n",
      "25296\n"
     ]
    },
    {
     "ename": "ValueError",
     "evalue": "Length of values (25296) does not match length of index (198)",
     "output_type": "error",
     "traceback": [
      "\u001b[0;31m---------------------------------------------------------------------------\u001b[0m",
      "\u001b[0;31mValueError\u001b[0m                                Traceback (most recent call last)",
      "\u001b[0;32m/var/folders/zp/xn41ykvd58s5hc_zv83pkk_c0000gn/T/ipykernel_7564/1841316315.py\u001b[0m in \u001b[0;36m<module>\u001b[0;34m\u001b[0m\n\u001b[0;32m----> 1\u001b[0;31m \u001b[0md\u001b[0m \u001b[0;34m=\u001b[0m \u001b[0mfxWindow\u001b[0m\u001b[0;34m(\u001b[0m\u001b[0;36m2\u001b[0m\u001b[0;34m,\u001b[0m\u001b[0mFX_Exposure_Rate\u001b[0m\u001b[0;34m,\u001b[0m\u001b[0mrolling\u001b[0m \u001b[0;34m=\u001b[0m \u001b[0;32mTrue\u001b[0m\u001b[0;34m)\u001b[0m\u001b[0;34m\u001b[0m\u001b[0;34m\u001b[0m\u001b[0m\n\u001b[0m",
      "\u001b[0;32m/var/folders/zp/xn41ykvd58s5hc_zv83pkk_c0000gn/T/ipykernel_7564/3018862550.py\u001b[0m in \u001b[0;36mfxWindow\u001b[0;34m(window, data_, rolling)\u001b[0m\n\u001b[1;32m     44\u001b[0m             \u001b[0;31m# print(f'{i/FX_Exposure_Rate.shape[0]:.6g}', end = '\\r')\u001b[0m\u001b[0;34m\u001b[0m\u001b[0;34m\u001b[0m\u001b[0;34m\u001b[0m\u001b[0m\n\u001b[1;32m     45\u001b[0m \u001b[0;34m\u001b[0m\u001b[0m\n\u001b[0;32m---> 46\u001b[0;31m         \u001b[0mdata\u001b[0m\u001b[0;34m[\u001b[0m\u001b[0mstr\u001b[0m\u001b[0;34m(\u001b[0m\u001b[0mwindow\u001b[0m\u001b[0;34m)\u001b[0m\u001b[0;34m+\u001b[0m\u001b[0;34m'_hour_exposure'\u001b[0m\u001b[0;34m]\u001b[0m \u001b[0;34m=\u001b[0m \u001b[0mend_of_window_exposure\u001b[0m\u001b[0;34m\u001b[0m\u001b[0;34m\u001b[0m\u001b[0m\n\u001b[0m\u001b[1;32m     47\u001b[0m         \u001b[0mdata\u001b[0m\u001b[0;34m[\u001b[0m\u001b[0mstr\u001b[0m\u001b[0;34m(\u001b[0m\u001b[0mwindow\u001b[0m\u001b[0;34m)\u001b[0m\u001b[0;34m+\u001b[0m\u001b[0;34m'_hour_max_exposure'\u001b[0m\u001b[0;34m]\u001b[0m \u001b[0;34m=\u001b[0m \u001b[0mmax_exposure_in_window\u001b[0m\u001b[0;34m\u001b[0m\u001b[0;34m\u001b[0m\u001b[0m\n\u001b[1;32m     48\u001b[0m         \u001b[0mdata\u001b[0m\u001b[0;34m[\u001b[0m\u001b[0mstr\u001b[0m\u001b[0;34m(\u001b[0m\u001b[0mwindow\u001b[0m\u001b[0;34m)\u001b[0m\u001b[0;34m+\u001b[0m\u001b[0;34m'_hour_min_exposure'\u001b[0m\u001b[0;34m]\u001b[0m \u001b[0;34m=\u001b[0m \u001b[0mmin_exposure_in_window\u001b[0m\u001b[0;34m\u001b[0m\u001b[0;34m\u001b[0m\u001b[0m\n",
      "\u001b[0;32m~/opt/anaconda3/lib/python3.8/site-packages/pandas/core/frame.py\u001b[0m in \u001b[0;36m__setitem__\u001b[0;34m(self, key, value)\u001b[0m\n\u001b[1;32m   3161\u001b[0m         \u001b[0;32melse\u001b[0m\u001b[0;34m:\u001b[0m\u001b[0;34m\u001b[0m\u001b[0;34m\u001b[0m\u001b[0m\n\u001b[1;32m   3162\u001b[0m             \u001b[0;31m# set column\u001b[0m\u001b[0;34m\u001b[0m\u001b[0;34m\u001b[0m\u001b[0;34m\u001b[0m\u001b[0m\n\u001b[0;32m-> 3163\u001b[0;31m             \u001b[0mself\u001b[0m\u001b[0;34m.\u001b[0m\u001b[0m_set_item\u001b[0m\u001b[0;34m(\u001b[0m\u001b[0mkey\u001b[0m\u001b[0;34m,\u001b[0m \u001b[0mvalue\u001b[0m\u001b[0;34m)\u001b[0m\u001b[0;34m\u001b[0m\u001b[0;34m\u001b[0m\u001b[0m\n\u001b[0m\u001b[1;32m   3164\u001b[0m \u001b[0;34m\u001b[0m\u001b[0m\n\u001b[1;32m   3165\u001b[0m     \u001b[0;32mdef\u001b[0m \u001b[0m_setitem_slice\u001b[0m\u001b[0;34m(\u001b[0m\u001b[0mself\u001b[0m\u001b[0;34m,\u001b[0m \u001b[0mkey\u001b[0m\u001b[0;34m:\u001b[0m \u001b[0mslice\u001b[0m\u001b[0;34m,\u001b[0m \u001b[0mvalue\u001b[0m\u001b[0;34m)\u001b[0m\u001b[0;34m:\u001b[0m\u001b[0;34m\u001b[0m\u001b[0;34m\u001b[0m\u001b[0m\n",
      "\u001b[0;32m~/opt/anaconda3/lib/python3.8/site-packages/pandas/core/frame.py\u001b[0m in \u001b[0;36m_set_item\u001b[0;34m(self, key, value)\u001b[0m\n\u001b[1;32m   3240\u001b[0m         \"\"\"\n\u001b[1;32m   3241\u001b[0m         \u001b[0mself\u001b[0m\u001b[0;34m.\u001b[0m\u001b[0m_ensure_valid_index\u001b[0m\u001b[0;34m(\u001b[0m\u001b[0mvalue\u001b[0m\u001b[0;34m)\u001b[0m\u001b[0;34m\u001b[0m\u001b[0;34m\u001b[0m\u001b[0m\n\u001b[0;32m-> 3242\u001b[0;31m         \u001b[0mvalue\u001b[0m \u001b[0;34m=\u001b[0m \u001b[0mself\u001b[0m\u001b[0;34m.\u001b[0m\u001b[0m_sanitize_column\u001b[0m\u001b[0;34m(\u001b[0m\u001b[0mkey\u001b[0m\u001b[0;34m,\u001b[0m \u001b[0mvalue\u001b[0m\u001b[0;34m)\u001b[0m\u001b[0;34m\u001b[0m\u001b[0;34m\u001b[0m\u001b[0m\n\u001b[0m\u001b[1;32m   3243\u001b[0m         \u001b[0mNDFrame\u001b[0m\u001b[0;34m.\u001b[0m\u001b[0m_set_item\u001b[0m\u001b[0;34m(\u001b[0m\u001b[0mself\u001b[0m\u001b[0;34m,\u001b[0m \u001b[0mkey\u001b[0m\u001b[0;34m,\u001b[0m \u001b[0mvalue\u001b[0m\u001b[0;34m)\u001b[0m\u001b[0;34m\u001b[0m\u001b[0;34m\u001b[0m\u001b[0m\n\u001b[1;32m   3244\u001b[0m \u001b[0;34m\u001b[0m\u001b[0m\n",
      "\u001b[0;32m~/opt/anaconda3/lib/python3.8/site-packages/pandas/core/frame.py\u001b[0m in \u001b[0;36m_sanitize_column\u001b[0;34m(self, key, value, broadcast)\u001b[0m\n\u001b[1;32m   3897\u001b[0m \u001b[0;34m\u001b[0m\u001b[0m\n\u001b[1;32m   3898\u001b[0m             \u001b[0;31m# turn me into an ndarray\u001b[0m\u001b[0;34m\u001b[0m\u001b[0;34m\u001b[0m\u001b[0;34m\u001b[0m\u001b[0m\n\u001b[0;32m-> 3899\u001b[0;31m             \u001b[0mvalue\u001b[0m \u001b[0;34m=\u001b[0m \u001b[0msanitize_index\u001b[0m\u001b[0;34m(\u001b[0m\u001b[0mvalue\u001b[0m\u001b[0;34m,\u001b[0m \u001b[0mself\u001b[0m\u001b[0;34m.\u001b[0m\u001b[0mindex\u001b[0m\u001b[0;34m)\u001b[0m\u001b[0;34m\u001b[0m\u001b[0;34m\u001b[0m\u001b[0m\n\u001b[0m\u001b[1;32m   3900\u001b[0m             \u001b[0;32mif\u001b[0m \u001b[0;32mnot\u001b[0m \u001b[0misinstance\u001b[0m\u001b[0;34m(\u001b[0m\u001b[0mvalue\u001b[0m\u001b[0;34m,\u001b[0m \u001b[0;34m(\u001b[0m\u001b[0mnp\u001b[0m\u001b[0;34m.\u001b[0m\u001b[0mndarray\u001b[0m\u001b[0;34m,\u001b[0m \u001b[0mIndex\u001b[0m\u001b[0;34m)\u001b[0m\u001b[0;34m)\u001b[0m\u001b[0;34m:\u001b[0m\u001b[0;34m\u001b[0m\u001b[0;34m\u001b[0m\u001b[0m\n\u001b[1;32m   3901\u001b[0m                 \u001b[0;32mif\u001b[0m \u001b[0misinstance\u001b[0m\u001b[0;34m(\u001b[0m\u001b[0mvalue\u001b[0m\u001b[0;34m,\u001b[0m \u001b[0mlist\u001b[0m\u001b[0;34m)\u001b[0m \u001b[0;32mand\u001b[0m \u001b[0mlen\u001b[0m\u001b[0;34m(\u001b[0m\u001b[0mvalue\u001b[0m\u001b[0;34m)\u001b[0m \u001b[0;34m>\u001b[0m \u001b[0;36m0\u001b[0m\u001b[0;34m:\u001b[0m\u001b[0;34m\u001b[0m\u001b[0;34m\u001b[0m\u001b[0m\n",
      "\u001b[0;32m~/opt/anaconda3/lib/python3.8/site-packages/pandas/core/internals/construction.py\u001b[0m in \u001b[0;36msanitize_index\u001b[0;34m(data, index)\u001b[0m\n\u001b[1;32m    749\u001b[0m     \"\"\"\n\u001b[1;32m    750\u001b[0m     \u001b[0;32mif\u001b[0m \u001b[0mlen\u001b[0m\u001b[0;34m(\u001b[0m\u001b[0mdata\u001b[0m\u001b[0;34m)\u001b[0m \u001b[0;34m!=\u001b[0m \u001b[0mlen\u001b[0m\u001b[0;34m(\u001b[0m\u001b[0mindex\u001b[0m\u001b[0;34m)\u001b[0m\u001b[0;34m:\u001b[0m\u001b[0;34m\u001b[0m\u001b[0;34m\u001b[0m\u001b[0m\n\u001b[0;32m--> 751\u001b[0;31m         raise ValueError(\n\u001b[0m\u001b[1;32m    752\u001b[0m             \u001b[0;34m\"Length of values \"\u001b[0m\u001b[0;34m\u001b[0m\u001b[0;34m\u001b[0m\u001b[0m\n\u001b[1;32m    753\u001b[0m             \u001b[0;34mf\"({len(data)}) \"\u001b[0m\u001b[0;34m\u001b[0m\u001b[0;34m\u001b[0m\u001b[0m\n",
      "\u001b[0;31mValueError\u001b[0m: Length of values (25296) does not match length of index (198)"
     ]
    }
   ],
   "source": [
    "d = fxWindow(2,FX_Exposure_Rate,rolling = True)"
   ]
  },
  {
   "cell_type": "code",
   "execution_count": null,
   "metadata": {},
   "outputs": [],
   "source": [
    "exposure = calculateExposures(FX_Exposure_Rate)"
   ]
  },
  {
   "cell_type": "code",
   "execution_count": null,
   "metadata": {},
   "outputs": [
    {
     "data": {
      "text/plain": [
       "count    9702.000000\n",
       "mean       14.429811\n",
       "std        20.038135\n",
       "min       -36.389481\n",
       "25%         1.062745\n",
       "50%         9.394867\n",
       "75%        24.398070\n",
       "max       102.301231\n",
       "dtype: float64"
      ]
     },
     "execution_count": 127,
     "metadata": {},
     "output_type": "execute_result"
    }
   ],
   "source": [
    "pd.Series(exposure).describe()"
   ]
  },
  {
   "cell_type": "code",
   "execution_count": null,
   "metadata": {},
   "outputs": [
    {
     "data": {
      "text/plain": [
       "139998.02770203544"
      ]
     },
     "execution_count": 124,
     "metadata": {},
     "output_type": "execute_result"
    }
   ],
   "source": [
    "sum(exposure)"
   ]
  },
  {
   "cell_type": "code",
   "execution_count": null,
   "metadata": {},
   "outputs": [
    {
     "name": "stdout",
     "output_type": "stream",
     "text": [
      "0.98989961\r"
     ]
    }
   ],
   "source": [
    "end_of_window_exposure = []\n",
    "max_exposure_in_window = []\n",
    "min_exposure_in_window = []\n",
    "min_more_than_0_window = []\n",
    "for i in range(FX_Exposure_Rate.shape[0]-1):\n",
    "    exposures = calculateExposures(FX_Exposure_Rate[FX_Exposure_Rate.TimeStamp <= \\\n",
    "                                        FX_Exposure_Rate.TimeStamp.iloc[i]+dt.timedelta(1/24)])\n",
    "\n",
    "    for ex in exposures:\n",
    "        end_of_window_exposure.append(ex[-1])\n",
    "        max_exposure_in_window.append(max(ex))\n",
    "        min_exposure_in_window.append(min(ex))\n",
    "        min_more_than_0_window.append(min([x if x > 0 else 0 for x in ex ]))\n",
    "\n",
    "    print(f'{i/FX_Exposure_Rate.shape[0]:.6g}', end = '\\r')"
   ]
  },
  {
   "cell_type": "code",
   "execution_count": null,
   "metadata": {},
   "outputs": [
    {
     "data": {
      "text/html": [
       "<div>\n",
       "<style scoped>\n",
       "    .dataframe tbody tr th:only-of-type {\n",
       "        vertical-align: middle;\n",
       "    }\n",
       "\n",
       "    .dataframe tbody tr th {\n",
       "        vertical-align: top;\n",
       "    }\n",
       "\n",
       "    .dataframe thead th {\n",
       "        text-align: right;\n",
       "    }\n",
       "</style>\n",
       "<table border=\"1\" class=\"dataframe\">\n",
       "  <thead>\n",
       "    <tr style=\"text-align: right;\">\n",
       "      <th></th>\n",
       "      <th>TransferId</th>\n",
       "      <th>TimeStamp</th>\n",
       "      <th>FromCcy</th>\n",
       "      <th>ToCcy</th>\n",
       "      <th>FromCcyAmount</th>\n",
       "      <th>EUR/GBP</th>\n",
       "      <th>Exchange_Rate</th>\n",
       "    </tr>\n",
       "  </thead>\n",
       "  <tbody>\n",
       "    <tr>\n",
       "      <th>0</th>\n",
       "      <td>3456765</td>\n",
       "      <td>2017-09-05 12:00:00</td>\n",
       "      <td>EUR</td>\n",
       "      <td>GBP</td>\n",
       "      <td>5900</td>\n",
       "      <td>0.8474</td>\n",
       "      <td>0.847400</td>\n",
       "    </tr>\n",
       "    <tr>\n",
       "      <th>1</th>\n",
       "      <td>3456766</td>\n",
       "      <td>2017-09-05 12:03:00</td>\n",
       "      <td>GBP</td>\n",
       "      <td>EUR</td>\n",
       "      <td>5500</td>\n",
       "      <td>0.8481</td>\n",
       "      <td>1.179106</td>\n",
       "    </tr>\n",
       "    <tr>\n",
       "      <th>2</th>\n",
       "      <td>3456767</td>\n",
       "      <td>2017-09-05 12:03:53</td>\n",
       "      <td>EUR</td>\n",
       "      <td>GBP</td>\n",
       "      <td>6500</td>\n",
       "      <td>0.8472</td>\n",
       "      <td>0.847200</td>\n",
       "    </tr>\n",
       "    <tr>\n",
       "      <th>3</th>\n",
       "      <td>3456768</td>\n",
       "      <td>2017-09-05 12:09:22</td>\n",
       "      <td>EUR</td>\n",
       "      <td>GBP</td>\n",
       "      <td>5400</td>\n",
       "      <td>0.8477</td>\n",
       "      <td>0.847700</td>\n",
       "    </tr>\n",
       "    <tr>\n",
       "      <th>4</th>\n",
       "      <td>3456769</td>\n",
       "      <td>2017-09-05 12:10:55</td>\n",
       "      <td>GBP</td>\n",
       "      <td>EUR</td>\n",
       "      <td>5200</td>\n",
       "      <td>0.8485</td>\n",
       "      <td>1.178550</td>\n",
       "    </tr>\n",
       "    <tr>\n",
       "      <th>5</th>\n",
       "      <td>3456770</td>\n",
       "      <td>2017-09-05 12:20:36</td>\n",
       "      <td>EUR</td>\n",
       "      <td>GBP</td>\n",
       "      <td>3400</td>\n",
       "      <td>0.8478</td>\n",
       "      <td>0.847800</td>\n",
       "    </tr>\n",
       "    <tr>\n",
       "      <th>6</th>\n",
       "      <td>3456771</td>\n",
       "      <td>2017-09-05 12:23:02</td>\n",
       "      <td>EUR</td>\n",
       "      <td>GBP</td>\n",
       "      <td>5500</td>\n",
       "      <td>0.8479</td>\n",
       "      <td>0.847900</td>\n",
       "    </tr>\n",
       "    <tr>\n",
       "      <th>7</th>\n",
       "      <td>3456772</td>\n",
       "      <td>2017-09-05 12:24:45</td>\n",
       "      <td>GBP</td>\n",
       "      <td>EUR</td>\n",
       "      <td>4300</td>\n",
       "      <td>0.8471</td>\n",
       "      <td>1.180498</td>\n",
       "    </tr>\n",
       "    <tr>\n",
       "      <th>8</th>\n",
       "      <td>3456773</td>\n",
       "      <td>2017-09-05 12:26:54</td>\n",
       "      <td>GBP</td>\n",
       "      <td>EUR</td>\n",
       "      <td>6400</td>\n",
       "      <td>0.8480</td>\n",
       "      <td>1.179245</td>\n",
       "    </tr>\n",
       "    <tr>\n",
       "      <th>9</th>\n",
       "      <td>3456774</td>\n",
       "      <td>2017-09-05 12:27:12</td>\n",
       "      <td>GBP</td>\n",
       "      <td>EUR</td>\n",
       "      <td>3400</td>\n",
       "      <td>0.8483</td>\n",
       "      <td>1.178828</td>\n",
       "    </tr>\n",
       "    <tr>\n",
       "      <th>10</th>\n",
       "      <td>3456775</td>\n",
       "      <td>2017-09-05 12:28:03</td>\n",
       "      <td>GBP</td>\n",
       "      <td>EUR</td>\n",
       "      <td>2100</td>\n",
       "      <td>0.8485</td>\n",
       "      <td>1.178550</td>\n",
       "    </tr>\n",
       "    <tr>\n",
       "      <th>11</th>\n",
       "      <td>3456776</td>\n",
       "      <td>2017-09-05 12:37:00</td>\n",
       "      <td>EUR</td>\n",
       "      <td>GBP</td>\n",
       "      <td>5400</td>\n",
       "      <td>0.8494</td>\n",
       "      <td>0.849400</td>\n",
       "    </tr>\n",
       "    <tr>\n",
       "      <th>12</th>\n",
       "      <td>3456777</td>\n",
       "      <td>2017-09-05 12:40:35</td>\n",
       "      <td>GBP</td>\n",
       "      <td>EUR</td>\n",
       "      <td>1700</td>\n",
       "      <td>0.8484</td>\n",
       "      <td>1.178689</td>\n",
       "    </tr>\n",
       "    <tr>\n",
       "      <th>13</th>\n",
       "      <td>3456778</td>\n",
       "      <td>2017-09-05 12:46:31</td>\n",
       "      <td>EUR</td>\n",
       "      <td>GBP</td>\n",
       "      <td>4000</td>\n",
       "      <td>0.8483</td>\n",
       "      <td>0.848300</td>\n",
       "    </tr>\n",
       "    <tr>\n",
       "      <th>14</th>\n",
       "      <td>3456779</td>\n",
       "      <td>2017-09-05 12:47:12</td>\n",
       "      <td>GBP</td>\n",
       "      <td>EUR</td>\n",
       "      <td>5900</td>\n",
       "      <td>0.8492</td>\n",
       "      <td>1.177579</td>\n",
       "    </tr>\n",
       "    <tr>\n",
       "      <th>15</th>\n",
       "      <td>3456780</td>\n",
       "      <td>2017-09-05 12:54:09</td>\n",
       "      <td>EUR</td>\n",
       "      <td>GBP</td>\n",
       "      <td>2400</td>\n",
       "      <td>0.8499</td>\n",
       "      <td>0.849900</td>\n",
       "    </tr>\n",
       "    <tr>\n",
       "      <th>16</th>\n",
       "      <td>3456781</td>\n",
       "      <td>2017-09-05 12:55:25</td>\n",
       "      <td>GBP</td>\n",
       "      <td>EUR</td>\n",
       "      <td>4600</td>\n",
       "      <td>0.8496</td>\n",
       "      <td>1.177024</td>\n",
       "    </tr>\n",
       "    <tr>\n",
       "      <th>17</th>\n",
       "      <td>3456782</td>\n",
       "      <td>2017-09-05 12:56:44</td>\n",
       "      <td>EUR</td>\n",
       "      <td>GBP</td>\n",
       "      <td>3300</td>\n",
       "      <td>0.8497</td>\n",
       "      <td>0.849700</td>\n",
       "    </tr>\n",
       "    <tr>\n",
       "      <th>18</th>\n",
       "      <td>3456783</td>\n",
       "      <td>2017-09-05 12:59:11</td>\n",
       "      <td>EUR</td>\n",
       "      <td>GBP</td>\n",
       "      <td>1900</td>\n",
       "      <td>0.8494</td>\n",
       "      <td>0.849400</td>\n",
       "    </tr>\n",
       "  </tbody>\n",
       "</table>\n",
       "</div>"
      ],
      "text/plain": [
       "    TransferId           TimeStamp FromCcy ToCcy  FromCcyAmount  EUR/GBP  \\\n",
       "0      3456765 2017-09-05 12:00:00     EUR   GBP           5900   0.8474   \n",
       "1      3456766 2017-09-05 12:03:00     GBP   EUR           5500   0.8481   \n",
       "2      3456767 2017-09-05 12:03:53     EUR   GBP           6500   0.8472   \n",
       "3      3456768 2017-09-05 12:09:22     EUR   GBP           5400   0.8477   \n",
       "4      3456769 2017-09-05 12:10:55     GBP   EUR           5200   0.8485   \n",
       "5      3456770 2017-09-05 12:20:36     EUR   GBP           3400   0.8478   \n",
       "6      3456771 2017-09-05 12:23:02     EUR   GBP           5500   0.8479   \n",
       "7      3456772 2017-09-05 12:24:45     GBP   EUR           4300   0.8471   \n",
       "8      3456773 2017-09-05 12:26:54     GBP   EUR           6400   0.8480   \n",
       "9      3456774 2017-09-05 12:27:12     GBP   EUR           3400   0.8483   \n",
       "10     3456775 2017-09-05 12:28:03     GBP   EUR           2100   0.8485   \n",
       "11     3456776 2017-09-05 12:37:00     EUR   GBP           5400   0.8494   \n",
       "12     3456777 2017-09-05 12:40:35     GBP   EUR           1700   0.8484   \n",
       "13     3456778 2017-09-05 12:46:31     EUR   GBP           4000   0.8483   \n",
       "14     3456779 2017-09-05 12:47:12     GBP   EUR           5900   0.8492   \n",
       "15     3456780 2017-09-05 12:54:09     EUR   GBP           2400   0.8499   \n",
       "16     3456781 2017-09-05 12:55:25     GBP   EUR           4600   0.8496   \n",
       "17     3456782 2017-09-05 12:56:44     EUR   GBP           3300   0.8497   \n",
       "18     3456783 2017-09-05 12:59:11     EUR   GBP           1900   0.8494   \n",
       "\n",
       "    Exchange_Rate  \n",
       "0        0.847400  \n",
       "1        1.179106  \n",
       "2        0.847200  \n",
       "3        0.847700  \n",
       "4        1.178550  \n",
       "5        0.847800  \n",
       "6        0.847900  \n",
       "7        1.180498  \n",
       "8        1.179245  \n",
       "9        1.178828  \n",
       "10       1.178550  \n",
       "11       0.849400  \n",
       "12       1.178689  \n",
       "13       0.848300  \n",
       "14       1.177579  \n",
       "15       0.849900  \n",
       "16       1.177024  \n",
       "17       0.849700  \n",
       "18       0.849400  "
      ]
     },
     "execution_count": 148,
     "metadata": {},
     "output_type": "execute_result"
    }
   ],
   "source": []
  },
  {
   "cell_type": "code",
   "execution_count": null,
   "metadata": {},
   "outputs": [],
   "source": []
  }
 ],
 "metadata": {
  "interpreter": {
   "hash": "e8f9ed6230475144ea643ad4fd5216aa1d6af672620083e3c670514de05fea41"
  },
  "kernelspec": {
   "display_name": "Python 3 (ipykernel)",
   "language": "python",
   "name": "python388jvsc74a57bd0e8f9ed6230475144ea643ad4fd5216aa1d6af672620083e3c670514de05fea41"
  },
  "language_info": {
   "codemirror_mode": {
    "name": "ipython",
    "version": 3
   },
   "file_extension": ".py",
   "mimetype": "text/x-python",
   "name": "python",
   "nbconvert_exporter": "python",
   "pygments_lexer": "ipython3",
   "version": "3.8.2"
  }
 },
 "nbformat": 4,
 "nbformat_minor": 4
}
