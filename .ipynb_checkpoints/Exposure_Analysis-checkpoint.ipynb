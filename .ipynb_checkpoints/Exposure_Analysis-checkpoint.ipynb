{
 "cells": [
  {
   "cell_type": "code",
   "execution_count": 1,
   "metadata": {},
   "outputs": [],
   "source": [
    "import pandas as pd\n",
    "import numpy as np\n",
    "import matplotlib.pyplot as plt\n",
    "import seaborn as sns"
   ]
  },
  {
   "cell_type": "code",
   "execution_count": 2,
   "metadata": {},
   "outputs": [],
   "source": [
    "FX_exp_df = pd.read_excel('Treasury_Analyst_-_Assignment.xlsx')\n",
    "FX_Rate_df = pd.read_excel('Treasury_Analyst_-_Assignment.xlsx',sheet_name='Rates')\n",
    "hedge_df = pd.read_excel('Treasury_Analyst_-_Assignment.xlsx',sheet_name='Hedge')"
   ]
  },
  {
   "cell_type": "code",
   "execution_count": 3,
   "metadata": {},
   "outputs": [
    {
     "data": {
      "text/html": [
       "<div>\n",
       "<style scoped>\n",
       "    .dataframe tbody tr th:only-of-type {\n",
       "        vertical-align: middle;\n",
       "    }\n",
       "\n",
       "    .dataframe tbody tr th {\n",
       "        vertical-align: top;\n",
       "    }\n",
       "\n",
       "    .dataframe thead th {\n",
       "        text-align: right;\n",
       "    }\n",
       "</style>\n",
       "<table border=\"1\" class=\"dataframe\">\n",
       "  <thead>\n",
       "    <tr style=\"text-align: right;\">\n",
       "      <th></th>\n",
       "      <th>TransferId</th>\n",
       "      <th>TimeStamp</th>\n",
       "      <th>FromCcy</th>\n",
       "      <th>ToCcy</th>\n",
       "      <th>FromCcyAmount</th>\n",
       "    </tr>\n",
       "  </thead>\n",
       "  <tbody>\n",
       "    <tr>\n",
       "      <th>0</th>\n",
       "      <td>3456765</td>\n",
       "      <td>2017-09-05 12:00:00</td>\n",
       "      <td>EUR</td>\n",
       "      <td>GBP</td>\n",
       "      <td>5900</td>\n",
       "    </tr>\n",
       "    <tr>\n",
       "      <th>1</th>\n",
       "      <td>3456766</td>\n",
       "      <td>2017-09-05 12:03:00</td>\n",
       "      <td>GBP</td>\n",
       "      <td>EUR</td>\n",
       "      <td>5500</td>\n",
       "    </tr>\n",
       "    <tr>\n",
       "      <th>2</th>\n",
       "      <td>3456767</td>\n",
       "      <td>2017-09-05 12:03:53</td>\n",
       "      <td>EUR</td>\n",
       "      <td>GBP</td>\n",
       "      <td>6500</td>\n",
       "    </tr>\n",
       "    <tr>\n",
       "      <th>3</th>\n",
       "      <td>3456768</td>\n",
       "      <td>2017-09-05 12:09:22</td>\n",
       "      <td>EUR</td>\n",
       "      <td>GBP</td>\n",
       "      <td>5400</td>\n",
       "    </tr>\n",
       "    <tr>\n",
       "      <th>4</th>\n",
       "      <td>3456769</td>\n",
       "      <td>2017-09-05 12:10:55</td>\n",
       "      <td>GBP</td>\n",
       "      <td>EUR</td>\n",
       "      <td>5200</td>\n",
       "    </tr>\n",
       "  </tbody>\n",
       "</table>\n",
       "</div>"
      ],
      "text/plain": [
       "   TransferId           TimeStamp FromCcy ToCcy  FromCcyAmount\n",
       "0     3456765 2017-09-05 12:00:00     EUR   GBP           5900\n",
       "1     3456766 2017-09-05 12:03:00     GBP   EUR           5500\n",
       "2     3456767 2017-09-05 12:03:53     EUR   GBP           6500\n",
       "3     3456768 2017-09-05 12:09:22     EUR   GBP           5400\n",
       "4     3456769 2017-09-05 12:10:55     GBP   EUR           5200"
      ]
     },
     "execution_count": 3,
     "metadata": {},
     "output_type": "execute_result"
    }
   ],
   "source": [
    "FX_exp_df.head()"
   ]
  },
  {
   "cell_type": "code",
   "execution_count": 4,
   "metadata": {},
   "outputs": [
    {
     "name": "stdout",
     "output_type": "stream",
     "text": [
      "<class 'pandas.core.frame.DataFrame'>\n",
      "RangeIndex: 198 entries, 0 to 197\n",
      "Data columns (total 5 columns):\n",
      " #   Column         Non-Null Count  Dtype         \n",
      "---  ------         --------------  -----         \n",
      " 0   TransferId     198 non-null    int64         \n",
      " 1   TimeStamp      198 non-null    datetime64[ns]\n",
      " 2   FromCcy        198 non-null    object        \n",
      " 3   ToCcy          198 non-null    object        \n",
      " 4   FromCcyAmount  198 non-null    int64         \n",
      "dtypes: datetime64[ns](1), int64(2), object(2)\n",
      "memory usage: 7.9+ KB\n"
     ]
    }
   ],
   "source": [
    "FX_exp_df.info()"
   ]
  },
  {
   "cell_type": "code",
   "execution_count": 5,
   "metadata": {},
   "outputs": [
    {
     "data": {
      "text/html": [
       "<div>\n",
       "<style scoped>\n",
       "    .dataframe tbody tr th:only-of-type {\n",
       "        vertical-align: middle;\n",
       "    }\n",
       "\n",
       "    .dataframe tbody tr th {\n",
       "        vertical-align: top;\n",
       "    }\n",
       "\n",
       "    .dataframe thead th {\n",
       "        text-align: right;\n",
       "    }\n",
       "</style>\n",
       "<table border=\"1\" class=\"dataframe\">\n",
       "  <thead>\n",
       "    <tr style=\"text-align: right;\">\n",
       "      <th></th>\n",
       "      <th>TimeStamp</th>\n",
       "      <th>EUR/GBP</th>\n",
       "    </tr>\n",
       "  </thead>\n",
       "  <tbody>\n",
       "    <tr>\n",
       "      <th>0</th>\n",
       "      <td>2017-09-05 12:00:00</td>\n",
       "      <td>0.8474</td>\n",
       "    </tr>\n",
       "    <tr>\n",
       "      <th>1</th>\n",
       "      <td>2017-09-05 12:03:00</td>\n",
       "      <td>0.8481</td>\n",
       "    </tr>\n",
       "    <tr>\n",
       "      <th>2</th>\n",
       "      <td>2017-09-05 12:03:53</td>\n",
       "      <td>0.8472</td>\n",
       "    </tr>\n",
       "    <tr>\n",
       "      <th>3</th>\n",
       "      <td>2017-09-05 12:09:22</td>\n",
       "      <td>0.8477</td>\n",
       "    </tr>\n",
       "    <tr>\n",
       "      <th>4</th>\n",
       "      <td>2017-09-05 12:10:55</td>\n",
       "      <td>0.8485</td>\n",
       "    </tr>\n",
       "  </tbody>\n",
       "</table>\n",
       "</div>"
      ],
      "text/plain": [
       "            TimeStamp  EUR/GBP\n",
       "0 2017-09-05 12:00:00   0.8474\n",
       "1 2017-09-05 12:03:00   0.8481\n",
       "2 2017-09-05 12:03:53   0.8472\n",
       "3 2017-09-05 12:09:22   0.8477\n",
       "4 2017-09-05 12:10:55   0.8485"
      ]
     },
     "execution_count": 5,
     "metadata": {},
     "output_type": "execute_result"
    }
   ],
   "source": [
    "FX_Rate_df.head()"
   ]
  },
  {
   "cell_type": "code",
   "execution_count": 6,
   "metadata": {},
   "outputs": [
    {
     "name": "stdout",
     "output_type": "stream",
     "text": [
      "<class 'pandas.core.frame.DataFrame'>\n",
      "RangeIndex: 198 entries, 0 to 197\n",
      "Data columns (total 2 columns):\n",
      " #   Column     Non-Null Count  Dtype         \n",
      "---  ------     --------------  -----         \n",
      " 0   TimeStamp  198 non-null    datetime64[ns]\n",
      " 1   EUR/GBP    198 non-null    float64       \n",
      "dtypes: datetime64[ns](1), float64(1)\n",
      "memory usage: 3.2 KB\n"
     ]
    }
   ],
   "source": [
    "FX_Rate_df.info()"
   ]
  },
  {
   "cell_type": "code",
   "execution_count": 7,
   "metadata": {},
   "outputs": [
    {
     "data": {
      "text/html": [
       "<div>\n",
       "<style scoped>\n",
       "    .dataframe tbody tr th:only-of-type {\n",
       "        vertical-align: middle;\n",
       "    }\n",
       "\n",
       "    .dataframe tbody tr th {\n",
       "        vertical-align: top;\n",
       "    }\n",
       "\n",
       "    .dataframe thead th {\n",
       "        text-align: right;\n",
       "    }\n",
       "</style>\n",
       "<table border=\"1\" class=\"dataframe\">\n",
       "  <thead>\n",
       "    <tr style=\"text-align: right;\">\n",
       "      <th></th>\n",
       "      <th>TimeStamp</th>\n",
       "      <th>Ccy</th>\n",
       "      <th>Amount</th>\n",
       "    </tr>\n",
       "  </thead>\n",
       "  <tbody>\n",
       "    <tr>\n",
       "      <th>0</th>\n",
       "      <td>2017-09-05 15:06:00</td>\n",
       "      <td>EUR</td>\n",
       "      <td>40000</td>\n",
       "    </tr>\n",
       "    <tr>\n",
       "      <th>1</th>\n",
       "      <td>2017-09-05 16:45:00</td>\n",
       "      <td>EUR</td>\n",
       "      <td>-20000</td>\n",
       "    </tr>\n",
       "    <tr>\n",
       "      <th>2</th>\n",
       "      <td>2017-09-05 17:20:00</td>\n",
       "      <td>EUR</td>\n",
       "      <td>10000</td>\n",
       "    </tr>\n",
       "    <tr>\n",
       "      <th>3</th>\n",
       "      <td>2017-09-05 20:27:00</td>\n",
       "      <td>EUR</td>\n",
       "      <td>10000</td>\n",
       "    </tr>\n",
       "    <tr>\n",
       "      <th>4</th>\n",
       "      <td>2017-09-05 21:37:00</td>\n",
       "      <td>EUR</td>\n",
       "      <td>20000</td>\n",
       "    </tr>\n",
       "  </tbody>\n",
       "</table>\n",
       "</div>"
      ],
      "text/plain": [
       "            TimeStamp  Ccy  Amount\n",
       "0 2017-09-05 15:06:00  EUR   40000\n",
       "1 2017-09-05 16:45:00  EUR  -20000\n",
       "2 2017-09-05 17:20:00  EUR   10000\n",
       "3 2017-09-05 20:27:00  EUR   10000\n",
       "4 2017-09-05 21:37:00  EUR   20000"
      ]
     },
     "execution_count": 7,
     "metadata": {},
     "output_type": "execute_result"
    }
   ],
   "source": [
    "hedge_df.head()"
   ]
  },
  {
   "cell_type": "code",
   "execution_count": 8,
   "metadata": {},
   "outputs": [
    {
     "data": {
      "text/plain": [
       "Index(['TransferId', 'TimeStamp', 'FromCcy', 'ToCcy', 'FromCcyAmount'], dtype='object')"
      ]
     },
     "execution_count": 8,
     "metadata": {},
     "output_type": "execute_result"
    }
   ],
   "source": [
    "FX_exp_df.columns"
   ]
  },
  {
   "cell_type": "code",
   "execution_count": 9,
   "metadata": {},
   "outputs": [
    {
     "data": {
      "text/plain": [
       "Timestamp('2017-09-05 23:23:34')"
      ]
     },
     "execution_count": 9,
     "metadata": {},
     "output_type": "execute_result"
    }
   ],
   "source": [
    "FX_exp_df.TimeStamp.max()"
   ]
  },
  {
   "cell_type": "code",
   "execution_count": 10,
   "metadata": {},
   "outputs": [
    {
     "data": {
      "text/plain": [
       "Index(['TimeStamp', 'EUR/GBP'], dtype='object')"
      ]
     },
     "execution_count": 10,
     "metadata": {},
     "output_type": "execute_result"
    }
   ],
   "source": [
    "FX_Rate_df.columns"
   ]
  },
  {
   "cell_type": "code",
   "execution_count": 11,
   "metadata": {},
   "outputs": [
    {
     "data": {
      "text/plain": [
       "Timestamp('2017-09-05 23:23:34')"
      ]
     },
     "execution_count": 11,
     "metadata": {},
     "output_type": "execute_result"
    }
   ],
   "source": [
    "FX_Rate_df.TimeStamp.max()"
   ]
  },
  {
   "cell_type": "code",
   "execution_count": 12,
   "metadata": {},
   "outputs": [],
   "source": [
    "FX_Exposure_Rate = FX_exp_df.merge(FX_Rate_df, left_on = 'TimeStamp',right_on = 'TimeStamp')"
   ]
  },
  {
   "cell_type": "code",
   "execution_count": 13,
   "metadata": {},
   "outputs": [
    {
     "data": {
      "text/plain": [
       "True"
      ]
     },
     "execution_count": 13,
     "metadata": {},
     "output_type": "execute_result"
    }
   ],
   "source": [
    "FX_Exposure_Rate.shape[0] == FX_exp_df.shape[0]"
   ]
  },
  {
   "cell_type": "code",
   "execution_count": 14,
   "metadata": {},
   "outputs": [
    {
     "name": "stdout",
     "output_type": "stream",
     "text": [
      "<class 'pandas.core.frame.DataFrame'>\n",
      "Int64Index: 198 entries, 0 to 197\n",
      "Data columns (total 6 columns):\n",
      " #   Column         Non-Null Count  Dtype         \n",
      "---  ------         --------------  -----         \n",
      " 0   TransferId     198 non-null    int64         \n",
      " 1   TimeStamp      198 non-null    datetime64[ns]\n",
      " 2   FromCcy        198 non-null    object        \n",
      " 3   ToCcy          198 non-null    object        \n",
      " 4   FromCcyAmount  198 non-null    int64         \n",
      " 5   EUR/GBP        198 non-null    float64       \n",
      "dtypes: datetime64[ns](1), float64(1), int64(2), object(2)\n",
      "memory usage: 10.8+ KB\n"
     ]
    }
   ],
   "source": [
    "FX_Exposure_Rate.info()"
   ]
  },
  {
   "cell_type": "code",
   "execution_count": 15,
   "metadata": {},
   "outputs": [
    {
     "data": {
      "image/png": "[encoded data removed]",
      "text/plain": [
       "<Figure size 720x432 with 1 Axes>"
      ]
     },
     "metadata": {
      "needs_background": "light"
     },
     "output_type": "display_data"
    }
   ],
   "source": [
    "fig = plt.figure(figsize = (10,6))\n",
    "sns.histplot(FX_Exposure_Rate[FX_Exposure_Rate.ToCcy=='EUR']['EUR/GBP'], color = 'green')\n",
    "sns.histplot(FX_Exposure_Rate[FX_Exposure_Rate.ToCcy=='GBP']['EUR/GBP'])\n",
    "plt.show()"
   ]
  },
  {
   "cell_type": "code",
   "execution_count": 16,
   "metadata": {},
   "outputs": [
    {
     "data": {
      "image/png": "[encoded data removed]",
      "text/plain": [
       "<Figure size 720x432 with 1 Axes>"
      ]
     },
     "metadata": {
      "needs_background": "light"
     },
     "output_type": "display_data"
    }
   ],
   "source": [
    "fig = plt.figure(figsize = (10,6))\n",
    "sns.histplot(FX_Exposure_Rate[FX_Exposure_Rate.ToCcy=='EUR']['FromCcyAmount'], color = 'green')\n",
    "sns.histplot(FX_Exposure_Rate[FX_Exposure_Rate.ToCcy=='GBP']['FromCcyAmount'])\n",
    "plt.show()"
   ]
  },
  {
   "cell_type": "markdown",
   "metadata": {},
   "source": [
    "#### * please assume none of the transactions were converted or paid out in this time"
   ]
  },
  {
   "cell_type": "markdown",
   "metadata": {},
   "source": [
    "### Let's calculate the exposure for hours {1,2,3....24} from the time the transferId was created."
   ]
  },
  {
   "cell_type": "code",
   "execution_count": 17,
   "metadata": {},
   "outputs": [
    {
     "data": {
      "text/html": [
       "<div>\n",
       "<style scoped>\n",
       "    .dataframe tbody tr th:only-of-type {\n",
       "        vertical-align: middle;\n",
       "    }\n",
       "\n",
       "    .dataframe tbody tr th {\n",
       "        vertical-align: top;\n",
       "    }\n",
       "\n",
       "    .dataframe thead th {\n",
       "        text-align: right;\n",
       "    }\n",
       "</style>\n",
       "<table border=\"1\" class=\"dataframe\">\n",
       "  <thead>\n",
       "    <tr style=\"text-align: right;\">\n",
       "      <th></th>\n",
       "      <th>TransferId</th>\n",
       "      <th>TimeStamp</th>\n",
       "      <th>FromCcy</th>\n",
       "      <th>ToCcy</th>\n",
       "      <th>FromCcyAmount</th>\n",
       "      <th>EUR/GBP</th>\n",
       "    </tr>\n",
       "  </thead>\n",
       "  <tbody>\n",
       "    <tr>\n",
       "      <th>0</th>\n",
       "      <td>3456765</td>\n",
       "      <td>2017-09-05 12:00:00</td>\n",
       "      <td>EUR</td>\n",
       "      <td>GBP</td>\n",
       "      <td>5900</td>\n",
       "      <td>0.8474</td>\n",
       "    </tr>\n",
       "    <tr>\n",
       "      <th>1</th>\n",
       "      <td>3456766</td>\n",
       "      <td>2017-09-05 12:03:00</td>\n",
       "      <td>GBP</td>\n",
       "      <td>EUR</td>\n",
       "      <td>5500</td>\n",
       "      <td>0.8481</td>\n",
       "    </tr>\n",
       "    <tr>\n",
       "      <th>2</th>\n",
       "      <td>3456767</td>\n",
       "      <td>2017-09-05 12:03:53</td>\n",
       "      <td>EUR</td>\n",
       "      <td>GBP</td>\n",
       "      <td>6500</td>\n",
       "      <td>0.8472</td>\n",
       "    </tr>\n",
       "    <tr>\n",
       "      <th>3</th>\n",
       "      <td>3456768</td>\n",
       "      <td>2017-09-05 12:09:22</td>\n",
       "      <td>EUR</td>\n",
       "      <td>GBP</td>\n",
       "      <td>5400</td>\n",
       "      <td>0.8477</td>\n",
       "    </tr>\n",
       "    <tr>\n",
       "      <th>4</th>\n",
       "      <td>3456769</td>\n",
       "      <td>2017-09-05 12:10:55</td>\n",
       "      <td>GBP</td>\n",
       "      <td>EUR</td>\n",
       "      <td>5200</td>\n",
       "      <td>0.8485</td>\n",
       "    </tr>\n",
       "  </tbody>\n",
       "</table>\n",
       "</div>"
      ],
      "text/plain": [
       "   TransferId           TimeStamp FromCcy ToCcy  FromCcyAmount  EUR/GBP\n",
       "0     3456765 2017-09-05 12:00:00     EUR   GBP           5900   0.8474\n",
       "1     3456766 2017-09-05 12:03:00     GBP   EUR           5500   0.8481\n",
       "2     3456767 2017-09-05 12:03:53     EUR   GBP           6500   0.8472\n",
       "3     3456768 2017-09-05 12:09:22     EUR   GBP           5400   0.8477\n",
       "4     3456769 2017-09-05 12:10:55     GBP   EUR           5200   0.8485"
      ]
     },
     "execution_count": 17,
     "metadata": {},
     "output_type": "execute_result"
    }
   ],
   "source": [
    "FX_Exposure_Rate.head()"
   ]
  },
  {
   "cell_type": "code",
   "execution_count": 18,
   "metadata": {},
   "outputs": [],
   "source": [
    "FX_Exposure_Rate['Exchange_Rate'] = [xr[1] if xr[0] == 'EUR' else 1/xr[1] for ind,xr in FX_Exposure_Rate[['FromCcy','EUR/GBP']].iterrows()]"
   ]
  },
  {
   "cell_type": "code",
   "execution_count": 19,
   "metadata": {},
   "outputs": [],
   "source": [
    "import datetime as dt"
   ]
  },
  {
   "cell_type": "code",
   "execution_count": 20,
   "metadata": {},
   "outputs": [],
   "source": [
    "def fxWindow(window,data,rolling = True): # Window in hours\n",
    "    \n",
    "    data.sort_values('TimeStamp',ascending = True, inplace = True)\n",
    "    \n",
    "    data['Hours'] = data.TimeStamp.dt.hour\n",
    "    \n",
    "    hours = data.Hours.unique()\n",
    "    data[str(window)+'_hour_Bucket'] = 0\n",
    "    j = 1\n",
    "    buckets = []\n",
    "    for i in range(0,len(hours),window):\n",
    "        bucket_hours = [hours[i] + l for l in range(window)]\n",
    "        buckets.extend(np.full(shape = data[data.Hours.isin(bucket_hours)].shape[0],fill_value = j))\n",
    "#         print(data[data.Hours.isin(hours[i] + l for l in range(window))].Hours)\n",
    "        j+=1\n",
    "    data[str(window)+'_hour_Bucket'] = buckets\n",
    "    \n",
    "    if rolling:\n",
    "    \n",
    "        data[str(window)+'_hour_exchange_rate'] = [ \n",
    "                                                    data[data.TimeStamp == \\\n",
    "                                                                max(data[data.TimeStamp <= \\\n",
    "                                                                data.TimeStamp.iloc[i]+dt.timedelta(window/24)].TimeStamp)]\\\n",
    "                                                                ['Exchange_Rate'].iloc[0]\n",
    "                                                                for i in range(data.shape[0])\n",
    "        ]\n",
    "\n",
    "        data[str(window)+'_hour_max_exchange_rate'] = [ \n",
    "                                                        max(data[data.TimeStamp <= \\\n",
    "                                                        data.TimeStamp.iloc[i]+dt.timedelta(window/24)]\\\n",
    "                                                        ['Exchange_Rate'])\n",
    "                                                        for i in range(data.shape[0])\n",
    "        ]\n",
    "\n",
    "        data[str(window)+'_hour_min_exchange_rate'] = [ \n",
    "                                                        min(data[data.TimeStamp <= \\\n",
    "                                                        data.TimeStamp.iloc[i]+dt.timedelta(window/24)]\\\n",
    "                                                        ['Exchange_Rate'])\n",
    "                                                        for i in range(data.shape[0])\n",
    "        ]\n",
    "\n",
    "        data[str(window)+'_hour_avg_exchange_rate'] = [ \n",
    "                                                        np.mean(data[data.TimeStamp <= \\\n",
    "                                                        data.TimeStamp.iloc[i]+dt.timedelta(window/24)]\\\n",
    "                                                        ['Exchange_Rate'])\n",
    "                                                        for i in range(data.shape[0])\n",
    "        ]\n",
    "        \n",
    "    else:\n",
    "        \n",
    "        exchange_Rate_Dicts = []\n",
    "        \n",
    "        for i in data[str(window)+'_hour_Bucket'].unique():\n",
    "            \n",
    "            exchange_Rate_Dicts.append({str(window)+'_hour_Bucket':i,\n",
    "                                        str(window)+'_hour_exchange_rate' : data[data.TimeStamp == \\\n",
    "                                                                max(data[data[str(window)+'_hour_Bucket'] == i].TimeStamp)]\\\n",
    "                                                                ['Exchange_Rate'].iloc[0],\n",
    "                                       str(window)+'_hour_max_exchange_rate' : max(data[data[str(window)+'_hour_Bucket'] == i]['Exchange_Rate']),\n",
    "                                       str(window)+'_hour_min_exchange_rate' : min(data[data[str(window)+'_hour_Bucket'] == i]['Exchange_Rate']),\n",
    "                                       str(window)+'_hour_avg_exchange_rate' : np.mean(data[data[str(window)+'_hour_Bucket'] == i]['Exchange_Rate'])})\n",
    "                \n",
    "        bucket_exchange_df = pd.DataFrame(exchange_Rate_Dicts)\n",
    "        \n",
    "        data = data.merge(bucket_exchange_df, left_on = str(window)+'_hour_Bucket', right_on = str(window)+'_hour_Bucket')\n",
    "        \n",
    "        \n",
    "    return data    \n",
    "                                        \n",
    "                                                                    "
   ]
  },
  {
   "cell_type": "code",
   "execution_count": 25,
   "metadata": {},
   "outputs": [],
   "source": [
    "df_ = fxWindow(2,FX_Exposure_Rate,rolling = False)"
   ]
  },
  {
   "cell_type": "code",
   "execution_count": 26,
   "metadata": {},
   "outputs": [
    {
     "data": {
      "text/plain": [
       "Index(['TransferId', 'TimeStamp', 'FromCcy', 'ToCcy', 'FromCcyAmount',\n",
       "       'EUR/GBP', 'Exchange_Rate', 'Hours', '2_hour_Bucket',\n",
       "       '2_hour_exchange_rate', '2_hour_max_exchange_rate',\n",
       "       '2_hour_min_exchange_rate', '2_hour_avg_exchange_rate'],\n",
       "      dtype='object')"
      ]
     },
     "execution_count": 26,
     "metadata": {},
     "output_type": "execute_result"
    }
   ],
   "source": [
    "df_.columns"
   ]
  },
  {
   "cell_type": "code",
   "execution_count": 28,
   "metadata": {},
   "outputs": [
    {
     "data": {
      "text/html": [
       "<div>\n",
       "<style scoped>\n",
       "    .dataframe tbody tr th:only-of-type {\n",
       "        vertical-align: middle;\n",
       "    }\n",
       "\n",
       "    .dataframe tbody tr th {\n",
       "        vertical-align: top;\n",
       "    }\n",
       "\n",
       "    .dataframe thead th {\n",
       "        text-align: right;\n",
       "    }\n",
       "</style>\n",
       "<table border=\"1\" class=\"dataframe\">\n",
       "  <thead>\n",
       "    <tr style=\"text-align: right;\">\n",
       "      <th></th>\n",
       "      <th>TransferId</th>\n",
       "      <th>TimeStamp</th>\n",
       "      <th>FromCcy</th>\n",
       "      <th>ToCcy</th>\n",
       "      <th>FromCcyAmount</th>\n",
       "      <th>EUR/GBP</th>\n",
       "      <th>Exchange_Rate</th>\n",
       "      <th>Hours</th>\n",
       "      <th>2_hour_Bucket</th>\n",
       "      <th>2_hour_exchange_rate</th>\n",
       "      <th>2_hour_max_exchange_rate</th>\n",
       "      <th>2_hour_min_exchange_rate</th>\n",
       "      <th>2_hour_avg_exchange_rate</th>\n",
       "    </tr>\n",
       "  </thead>\n",
       "  <tbody>\n",
       "    <tr>\n",
       "      <th>0</th>\n",
       "      <td>3456765</td>\n",
       "      <td>2017-09-05 12:00:00</td>\n",
       "      <td>EUR</td>\n",
       "      <td>GBP</td>\n",
       "      <td>5900</td>\n",
       "      <td>0.8474</td>\n",
       "      <td>0.847400</td>\n",
       "      <td>12</td>\n",
       "      <td>1</td>\n",
       "      <td>1.179523</td>\n",
       "      <td>1.180498</td>\n",
       "      <td>0.8472</td>\n",
       "      <td>1.017837</td>\n",
       "    </tr>\n",
       "    <tr>\n",
       "      <th>1</th>\n",
       "      <td>3456766</td>\n",
       "      <td>2017-09-05 12:03:00</td>\n",
       "      <td>GBP</td>\n",
       "      <td>EUR</td>\n",
       "      <td>5500</td>\n",
       "      <td>0.8481</td>\n",
       "      <td>1.179106</td>\n",
       "      <td>12</td>\n",
       "      <td>1</td>\n",
       "      <td>1.179523</td>\n",
       "      <td>1.180498</td>\n",
       "      <td>0.8472</td>\n",
       "      <td>1.017837</td>\n",
       "    </tr>\n",
       "    <tr>\n",
       "      <th>2</th>\n",
       "      <td>3456767</td>\n",
       "      <td>2017-09-05 12:03:53</td>\n",
       "      <td>EUR</td>\n",
       "      <td>GBP</td>\n",
       "      <td>6500</td>\n",
       "      <td>0.8472</td>\n",
       "      <td>0.847200</td>\n",
       "      <td>12</td>\n",
       "      <td>1</td>\n",
       "      <td>1.179523</td>\n",
       "      <td>1.180498</td>\n",
       "      <td>0.8472</td>\n",
       "      <td>1.017837</td>\n",
       "    </tr>\n",
       "    <tr>\n",
       "      <th>3</th>\n",
       "      <td>3456768</td>\n",
       "      <td>2017-09-05 12:09:22</td>\n",
       "      <td>EUR</td>\n",
       "      <td>GBP</td>\n",
       "      <td>5400</td>\n",
       "      <td>0.8477</td>\n",
       "      <td>0.847700</td>\n",
       "      <td>12</td>\n",
       "      <td>1</td>\n",
       "      <td>1.179523</td>\n",
       "      <td>1.180498</td>\n",
       "      <td>0.8472</td>\n",
       "      <td>1.017837</td>\n",
       "    </tr>\n",
       "    <tr>\n",
       "      <th>4</th>\n",
       "      <td>3456769</td>\n",
       "      <td>2017-09-05 12:10:55</td>\n",
       "      <td>GBP</td>\n",
       "      <td>EUR</td>\n",
       "      <td>5200</td>\n",
       "      <td>0.8485</td>\n",
       "      <td>1.178550</td>\n",
       "      <td>12</td>\n",
       "      <td>1</td>\n",
       "      <td>1.179523</td>\n",
       "      <td>1.180498</td>\n",
       "      <td>0.8472</td>\n",
       "      <td>1.017837</td>\n",
       "    </tr>\n",
       "    <tr>\n",
       "      <th>...</th>\n",
       "      <td>...</td>\n",
       "      <td>...</td>\n",
       "      <td>...</td>\n",
       "      <td>...</td>\n",
       "      <td>...</td>\n",
       "      <td>...</td>\n",
       "      <td>...</td>\n",
       "      <td>...</td>\n",
       "      <td>...</td>\n",
       "      <td>...</td>\n",
       "      <td>...</td>\n",
       "      <td>...</td>\n",
       "      <td>...</td>\n",
       "    </tr>\n",
       "    <tr>\n",
       "      <th>193</th>\n",
       "      <td>3456958</td>\n",
       "      <td>2017-09-05 23:01:58</td>\n",
       "      <td>EUR</td>\n",
       "      <td>GBP</td>\n",
       "      <td>4400</td>\n",
       "      <td>0.8575</td>\n",
       "      <td>0.857500</td>\n",
       "      <td>23</td>\n",
       "      <td>6</td>\n",
       "      <td>0.857700</td>\n",
       "      <td>1.170549</td>\n",
       "      <td>0.8539</td>\n",
       "      <td>1.011991</td>\n",
       "    </tr>\n",
       "    <tr>\n",
       "      <th>194</th>\n",
       "      <td>3456959</td>\n",
       "      <td>2017-09-05 23:08:43</td>\n",
       "      <td>GBP</td>\n",
       "      <td>EUR</td>\n",
       "      <td>1400</td>\n",
       "      <td>0.8571</td>\n",
       "      <td>1.166725</td>\n",
       "      <td>23</td>\n",
       "      <td>6</td>\n",
       "      <td>0.857700</td>\n",
       "      <td>1.170549</td>\n",
       "      <td>0.8539</td>\n",
       "      <td>1.011991</td>\n",
       "    </tr>\n",
       "    <tr>\n",
       "      <th>195</th>\n",
       "      <td>3456960</td>\n",
       "      <td>2017-09-05 23:12:12</td>\n",
       "      <td>EUR</td>\n",
       "      <td>GBP</td>\n",
       "      <td>6200</td>\n",
       "      <td>0.8567</td>\n",
       "      <td>0.856700</td>\n",
       "      <td>23</td>\n",
       "      <td>6</td>\n",
       "      <td>0.857700</td>\n",
       "      <td>1.170549</td>\n",
       "      <td>0.8539</td>\n",
       "      <td>1.011991</td>\n",
       "    </tr>\n",
       "    <tr>\n",
       "      <th>196</th>\n",
       "      <td>3456961</td>\n",
       "      <td>2017-09-05 23:18:39</td>\n",
       "      <td>GBP</td>\n",
       "      <td>EUR</td>\n",
       "      <td>900</td>\n",
       "      <td>0.8577</td>\n",
       "      <td>1.165909</td>\n",
       "      <td>23</td>\n",
       "      <td>6</td>\n",
       "      <td>0.857700</td>\n",
       "      <td>1.170549</td>\n",
       "      <td>0.8539</td>\n",
       "      <td>1.011991</td>\n",
       "    </tr>\n",
       "    <tr>\n",
       "      <th>197</th>\n",
       "      <td>3456962</td>\n",
       "      <td>2017-09-05 23:23:34</td>\n",
       "      <td>EUR</td>\n",
       "      <td>GBP</td>\n",
       "      <td>500</td>\n",
       "      <td>0.8577</td>\n",
       "      <td>0.857700</td>\n",
       "      <td>23</td>\n",
       "      <td>6</td>\n",
       "      <td>0.857700</td>\n",
       "      <td>1.170549</td>\n",
       "      <td>0.8539</td>\n",
       "      <td>1.011991</td>\n",
       "    </tr>\n",
       "  </tbody>\n",
       "</table>\n",
       "<p>198 rows × 13 columns</p>\n",
       "</div>"
      ],
      "text/plain": [
       "     TransferId           TimeStamp FromCcy ToCcy  FromCcyAmount  EUR/GBP  \\\n",
       "0       3456765 2017-09-05 12:00:00     EUR   GBP           5900   0.8474   \n",
       "1       3456766 2017-09-05 12:03:00     GBP   EUR           5500   0.8481   \n",
       "2       3456767 2017-09-05 12:03:53     EUR   GBP           6500   0.8472   \n",
       "3       3456768 2017-09-05 12:09:22     EUR   GBP           5400   0.8477   \n",
       "4       3456769 2017-09-05 12:10:55     GBP   EUR           5200   0.8485   \n",
       "..          ...                 ...     ...   ...            ...      ...   \n",
       "193     3456958 2017-09-05 23:01:58     EUR   GBP           4400   0.8575   \n",
       "194     3456959 2017-09-05 23:08:43     GBP   EUR           1400   0.8571   \n",
       "195     3456960 2017-09-05 23:12:12     EUR   GBP           6200   0.8567   \n",
       "196     3456961 2017-09-05 23:18:39     GBP   EUR            900   0.8577   \n",
       "197     3456962 2017-09-05 23:23:34     EUR   GBP            500   0.8577   \n",
       "\n",
       "     Exchange_Rate  Hours  2_hour_Bucket  2_hour_exchange_rate  \\\n",
       "0         0.847400     12              1              1.179523   \n",
       "1         1.179106     12              1              1.179523   \n",
       "2         0.847200     12              1              1.179523   \n",
       "3         0.847700     12              1              1.179523   \n",
       "4         1.178550     12              1              1.179523   \n",
       "..             ...    ...            ...                   ...   \n",
       "193       0.857500     23              6              0.857700   \n",
       "194       1.166725     23              6              0.857700   \n",
       "195       0.856700     23              6              0.857700   \n",
       "196       1.165909     23              6              0.857700   \n",
       "197       0.857700     23              6              0.857700   \n",
       "\n",
       "     2_hour_max_exchange_rate  2_hour_min_exchange_rate  \\\n",
       "0                    1.180498                    0.8472   \n",
       "1                    1.180498                    0.8472   \n",
       "2                    1.180498                    0.8472   \n",
       "3                    1.180498                    0.8472   \n",
       "4                    1.180498                    0.8472   \n",
       "..                        ...                       ...   \n",
       "193                  1.170549                    0.8539   \n",
       "194                  1.170549                    0.8539   \n",
       "195                  1.170549                    0.8539   \n",
       "196                  1.170549                    0.8539   \n",
       "197                  1.170549                    0.8539   \n",
       "\n",
       "     2_hour_avg_exchange_rate  \n",
       "0                    1.017837  \n",
       "1                    1.017837  \n",
       "2                    1.017837  \n",
       "3                    1.017837  \n",
       "4                    1.017837  \n",
       "..                        ...  \n",
       "193                  1.011991  \n",
       "194                  1.011991  \n",
       "195                  1.011991  \n",
       "196                  1.011991  \n",
       "197                  1.011991  \n",
       "\n",
       "[198 rows x 13 columns]"
      ]
     },
     "execution_count": 28,
     "metadata": {},
     "output_type": "execute_result"
    }
   ],
   "source": [
    "df_"
   ]
  },
  {
   "cell_type": "code",
   "execution_count": null,
   "metadata": {},
   "outputs": [],
   "source": []
  }
 ],
 "metadata": {
  "interpreter": {
   "hash": "e8f9ed6230475144ea643ad4fd5216aa1d6af672620083e3c670514de05fea41"
  },
  "kernelspec": {
   "display_name": "Python 3 (ipykernel)",
   "language": "python",
   "name": "python3"
  },
  "language_info": {
   "codemirror_mode": {
    "name": "ipython",
    "version": 3
   },
   "file_extension": ".py",
   "mimetype": "text/x-python",
   "name": "python",
   "nbconvert_exporter": "python",
   "pygments_lexer": "ipython3",
   "version": "3.8.2"
  }
 },
 "nbformat": 4,
 "nbformat_minor": 4
}
